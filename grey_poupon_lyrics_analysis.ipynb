{
 "cells": [
  {
   "cell_type": "markdown",
   "id": "0efec818",
   "metadata": {},
   "source": [
    "# Grey Poupon: A Hip-Hop Lyrical Phenomena!"
   ]
  },
  {
   "cell_type": "markdown",
   "id": "423ffe46",
   "metadata": {},
   "source": [
    "### I recently saw a video on an interesting trend in the field of Hip-Hop music about Grey Poupon - a brand of dijon mustard - having an unusual amount of references in the genre as an allegory for \"the idea of status, luxury, and class\" [[1]](#citations).\n",
    "\n",
    "### While a funny fact, I feel we can analyze this further and consider more aspects regarding the usage of the brand in the Hip-Hop music landscape.\n",
    "\n",
    "#### The questions we will answer are the following:\n",
    "\n",
    "1. [How many songs mention the brand?](#brand)\n",
    "2. [Which artists have made references to Grey Poupon? How many times?](#top_artists)\n",
    "3. [Are there alternative spellings of Grey (i.e. Gray) used as well?](#grey_vs_gray)\n",
    "4. [What are the top ten words in the lyrics?](#top_words)\n",
    "5. [Are there permutations of the word \"Poupon\" in the lyrics and what are they?](#poupon_permutations)\n",
    "6. [What are the most common nouns and verbs used in song lyrics with Grey Poupon?](#nouns_and_verbs)\n",
    "7. [Are there any words in the lyrics the artists are rhyming with \"Poupon\"? Which words and how many?](#poupon_rhymes)"
   ]
  },
  {
   "cell_type": "markdown",
   "id": "a9d5697e",
   "metadata": {},
   "source": [
    "## Preface: First we will collect our song data from genius.com to clean and analyze later on (song titles, artist names and lyric snippets) [[2]](#citations):"
   ]
  },
  {
   "cell_type": "code",
   "execution_count": 4,
   "id": "6f843b3f-b28a-4b3f-a9b2-4f40a336881a",
   "metadata": {},
   "outputs": [],
   "source": [
    "import pyautogui, time, pandas as pd, matplotlib.pyplot as plt, csv, requests\n",
    "from selenium import webdriver\n",
    "from selenium.webdriver.common.by import By\n",
    "from bs4 import BeautifulSoup as bs\n",
    "from textblob import TextBlob"
   ]
  },
  {
   "cell_type": "code",
   "execution_count": 5,
   "id": "5116d87c-9cf5-4e02-837a-7f6c765de9cf",
   "metadata": {},
   "outputs": [],
   "source": [
    "# Activate failsafe (moving mouse cursor to upper-left of window will stop program if needed)\n",
    "pyautogui.FAILSAFE = True\n",
    "\n",
    "# Initialize WebDriver\n",
    "driver = webdriver.Chrome()\n",
    "\n",
    "# Open the URL of the webpage\n",
    "url = \"https://genius.com/search?q=poupon\"\n",
    "driver.get(url)\n",
    "\n",
    "# Trigger \"Show more lyrics\" link to bring up search results\n",
    "link = driver.find_element(By.LINK_TEXT, \"Show more lyric matches\")\n",
    "link.click()"
   ]
  },
  {
   "cell_type": "code",
   "execution_count": 6,
   "id": "bff8ffa3-76b5-4d4f-b2a8-771cd32dc5ed",
   "metadata": {},
   "outputs": [],
   "source": [
    "pyautogui.hotkey(\"f12\")\n",
    "time.sleep(5)\n",
    "\n",
    "page_html = bs(driver.page_source, \"html.parser\")\n"
   ]
  },
  {
   "cell_type": "code",
   "execution_count": 7,
   "id": "20b4dea4-50ea-4903-807a-fa7ec9226a6f",
   "metadata": {},
   "outputs": [],
   "source": [
    "# Extract currently loaded search results\n",
    "def collect_data(data_list, str_list):\n",
    "    for list_item in data_list:\n",
    "        str_list.append(str(list_item))\n",
    "\n",
    "# Trigger webpage to load more results\n",
    "def load_more_data():\n",
    "    pyautogui.hotkey('ctrl', 'f')\n",
    "    pyautogui.write('load_next()')\n",
    "    time.sleep(2)\n",
    "    page_html = bs(driver.page_source, \"html.parser\")\n",
    "    html_data_list = list(page_html)\n",
    "    html_data_list_str = str(html_data_list)\n",
    "    return html_data_list_str, page_html\n",
    "    "
   ]
  },
  {
   "cell_type": "code",
   "execution_count": 8,
   "id": "32b59994",
   "metadata": {},
   "outputs": [],
   "source": [
    "# Run load_more_data manually one time to feed the initial iteration of the while loop\n",
    "html_data_list_str = load_more_data()\n",
    "prior_html_list_str = []"
   ]
  },
  {
   "cell_type": "code",
   "execution_count": 9,
   "id": "8ff11f78",
   "metadata": {},
   "outputs": [],
   "source": [
    "# When end of results is reached, break while loop and continue program\n",
    "while len(prior_html_list_str) != len(html_data_list_str):\n",
    "    # Load more results and assign to lyric_poupon_check_list_str\n",
    "    prior_html_list_str = html_data_list_str\n",
    "    html_data_list_str, page_html = load_more_data()"
   ]
  },
  {
   "cell_type": "code",
   "execution_count": 10,
   "id": "1ef7b212-c1fa-4e70-9c8e-7f1ee7bd2497",
   "metadata": {},
   "outputs": [],
   "source": [
    "# Collect song titles\n",
    "song_title = page_html.find_all(\"div\", {\"class\": \"mini_card-title\"})\n",
    "song_title_list = list(song_title)\n",
    "song_title_list_str = []\n",
    "\n",
    "# Convert list elements to strings for cleaning later on\n",
    "collect_data(song_title_list, song_title_list_str)\n"
   ]
  },
  {
   "cell_type": "code",
   "execution_count": 11,
   "id": "63419324-8910-4829-8088-7634f401c156",
   "metadata": {},
   "outputs": [],
   "source": [
    "# Collect artist names\n",
    "artist_name = page_html.find_all(\"div\", {\"class\": \"mini_card-subtitle\"})\n",
    "artist_name_list = list(artist_name)\n",
    "artist_name_list_str = []\n",
    "\n",
    "# Convert list elements to strings for cleaning later on\n",
    "collect_data(artist_name_list, artist_name_list_str)\n",
    "\n"
   ]
  },
  {
   "cell_type": "code",
   "execution_count": 12,
   "id": "e3c37d0e-0b5c-4cf7-8989-9b678b6e9124",
   "metadata": {},
   "outputs": [],
   "source": [
    "# Collect lyrics\n",
    "lyric_values = page_html.find_all(\"div\", {\"class\": \"mini_card-lyric_excerpt\"})\n",
    "time.sleep(3)\n",
    "lyric_values_list = list(lyric_values)\n",
    "lyric_values_list_str = []\n",
    "\n",
    "# Convert list elements to strings for for cleaning later on\n",
    "collect_data(lyric_values_list, lyric_values_list_str)"
   ]
  },
  {
   "cell_type": "code",
   "execution_count": 13,
   "id": "81252a51",
   "metadata": {},
   "outputs": [],
   "source": [
    "# Close Genius.com web browser window\n",
    "time.sleep(2)\n",
    "driver.close()"
   ]
  },
  {
   "cell_type": "code",
   "execution_count": 14,
   "id": "0b35dc96-b7fe-42fc-8772-704dc5c58651",
   "metadata": {},
   "outputs": [],
   "source": [
    "# Remove first few rows at top of lists due to unrelated search results\n",
    "song_title_list_clean = song_title_list_str[17:]\n",
    "artist_name_list_clean = artist_name_list_str[11:]\n",
    "lyric_values_list_clean = lyric_values_list_str[6:]\n"
   ]
  },
  {
   "cell_type": "code",
   "execution_count": 15,
   "id": "d108f167-5bf6-4ed3-a569-ddb5386ff3bc",
   "metadata": {},
   "outputs": [],
   "source": [
    "# Remove leading and trailing html data from song/artist/lyric values\n",
    "def remove_html_data(data_list, leading_length, clean_list_2):\n",
    "    for data_string in data_list:\n",
    "        clean_data = data_string[leading_length:]\n",
    "        \n",
    "        # Remove \"\\n\" with space for .index() to find correct position for trailing_length\n",
    "        clean_data = clean_data.replace(\"\\n\", \" \")\n",
    "        clean_data = clean_data.replace(\"<span>\", \"\")\n",
    "        clean_data = clean_data.replace(\"</span>\", \"\")\n",
    "\n",
    "        trailing_length = clean_data.index(\"<\")\n",
    "        clean_data = clean_data[:trailing_length]\n",
    "\n",
    "        clean_list_2.append(clean_data.lower())\n",
    "        "
   ]
  },
  {
   "cell_type": "code",
   "execution_count": 16,
   "id": "1836fc14-7237-4ffd-9452-cba41831231e",
   "metadata": {},
   "outputs": [],
   "source": [
    "song_title_list_clean_2 = []\n",
    "remove_html_data(song_title_list_clean, 29, song_title_list_clean_2)\n"
   ]
  },
  {
   "cell_type": "code",
   "execution_count": 17,
   "id": "3d29e003-f111-499f-a283-507e0bd23205",
   "metadata": {},
   "outputs": [],
   "source": [
    "artist_name_list_clean_2 = []\n",
    "remove_html_data(artist_name_list_clean, 35, artist_name_list_clean_2)\n"
   ]
  },
  {
   "cell_type": "code",
   "execution_count": 18,
   "id": "715b145a-ef9f-43e5-aa47-2bd7e085a1fd",
   "metadata": {},
   "outputs": [],
   "source": [
    "lyric_values_list_clean_2 = []\n",
    "remove_html_data(lyric_values_list_clean, 112, lyric_values_list_clean_2)\n"
   ]
  },
  {
   "cell_type": "code",
   "execution_count": 19,
   "id": "2310a0d2-ae34-40f5-b47d-a9c594d96f3d",
   "metadata": {},
   "outputs": [],
   "source": [
    "# Combine all three columns into one dataframe\n",
    "lyric_df = pd.DataFrame(list(zip(song_title_list_clean_2, artist_name_list_clean_2, lyric_values_list_clean_2)),\n",
    "                       columns=[\"song_title\", \"artist_name\", \"lyric_values\"])"
   ]
  },
  {
   "cell_type": "markdown",
   "id": "756f06e2",
   "metadata": {},
   "source": [
    "### Now that we have extracted our data and imported it to a pandas dataframe, we can begin cleaning it for further use later on:"
   ]
  },
  {
   "cell_type": "code",
   "execution_count": 20,
   "id": "9b7eff8f",
   "metadata": {},
   "outputs": [],
   "source": [
    "# Remove expletives and other offensive language from lyric_values listed in a csv file\n",
    "    # Note: The CSV file is not shared in this project - you may create your own in the following format:\n",
    "        # Row 1: Header/Disclaimer row\n",
    "        # Row 2: Word to censor\n",
    "        # etc.\n",
    "\n",
    "# Load words to list\n",
    "expletive_list = []\n",
    "with open('C:\\\\Users\\\\mnbia\\\\Documents\\\\grey_poupon_music_lyrics_analysis\\\\word_censor_list.csv') as csvfile:\n",
    "    file_reader = csv.reader(csvfile)\n",
    "    for row in file_reader:\n",
    "        expletive_list.append(row)"
   ]
  },
  {
   "cell_type": "code",
   "execution_count": 21,
   "id": "eff2434e",
   "metadata": {},
   "outputs": [],
   "source": [
    "# Flatten expletive_list from list of lists format\n",
    "expletive_list_flat = []\n",
    "for expl_word_1 in expletive_list:\n",
    "    for sub_expl_word_1 in expl_word_1:\n",
    "        expletive_list_flat.append(sub_expl_word_1)\n",
    "\n",
    "# Remove header/disclaimer from first list element\n",
    "expletive_list_flat = expletive_list_flat[1:]"
   ]
  },
  {
   "cell_type": "code",
   "execution_count": 22,
   "id": "487f422c",
   "metadata": {
    "scrolled": false
   },
   "outputs": [],
   "source": [
    "# Iterate through lyric_values column and remove any words found from list\n",
    "for expl_word_2 in expletive_list_flat:\n",
    "    lyric_df['lyric_values'] = lyric_df['lyric_values'].str.replace(expl_word_2, '')"
   ]
  },
  {
   "cell_type": "markdown",
   "id": "7496f06b",
   "metadata": {},
   "source": [
    "###  Let's check in with how the dataframe currently looks:"
   ]
  },
  {
   "cell_type": "code",
   "execution_count": 23,
   "id": "cadb984a-a2d4-46bb-8a86-624c9ce40bc7",
   "metadata": {},
   "outputs": [
    {
     "data": {
      "text/html": [
       "<div>\n",
       "<style scoped>\n",
       "    .dataframe tbody tr th:only-of-type {\n",
       "        vertical-align: middle;\n",
       "    }\n",
       "\n",
       "    .dataframe tbody tr th {\n",
       "        vertical-align: top;\n",
       "    }\n",
       "\n",
       "    .dataframe thead th {\n",
       "        text-align: right;\n",
       "    }\n",
       "</style>\n",
       "<table border=\"1\" class=\"dataframe\">\n",
       "  <thead>\n",
       "    <tr style=\"text-align: right;\">\n",
       "      <th></th>\n",
       "      <th>song_title</th>\n",
       "      <th>artist_name</th>\n",
       "      <th>lyric_values</th>\n",
       "    </tr>\n",
       "  </thead>\n",
       "  <tbody>\n",
       "    <tr>\n",
       "      <th>0</th>\n",
       "      <td>humble.</td>\n",
       "      <td>kendrick lamar</td>\n",
       "      <td>bout it, ayy, she elaborate it, ayy this that grey poupon, that evian, that ted talk, ayy watch my soul</td>\n",
       "    </tr>\n",
       "    <tr>\n",
       "      <th>1</th>\n",
       "      <td>facts (charlie heat version)</td>\n",
       "      <td>kanye west</td>\n",
       "      <td>yeezy, yeezy, this is pure luxury i give 'em grey poupon on a dj mustard, ah! if you ain't</td>\n",
       "    </tr>\n",
       "    <tr>\n",
       "      <th>2</th>\n",
       "      <td>detroit vs. everybody</td>\n",
       "      <td>eminem</td>\n",
       "      <td>lived a lifetime a few times from futons to grey poupons in church, tryna get a little savings, yeah, a</td>\n",
       "    </tr>\n",
       "    <tr>\n",
       "      <th>3</th>\n",
       "      <td>show me (remix)</td>\n",
       "      <td>kid ink</td>\n",
       "      <td>coupons just bought a car, that  came with grey poupon (ooh) baby, let me put your panties to the</td>\n",
       "    </tr>\n",
       "    <tr>\n",
       "      <th>4</th>\n",
       "      <td>alaska</td>\n",
       "      <td>brockhampton</td>\n",
       "      <td>the coupe is mustard colored, what the  is grey poupon? young k.a., never quit your day job, uh</td>\n",
       "    </tr>\n",
       "    <tr>\n",
       "      <th>...</th>\n",
       "      <td>...</td>\n",
       "      <td>...</td>\n",
       "      <td>...</td>\n",
       "    </tr>\n",
       "    <tr>\n",
       "      <th>610</th>\n",
       "      <td>ça fait mal (remix)</td>\n",
       "      <td>la fouine</td>\n",
       "      <td>une connexion plus attendue que \"detox\" mon flow a les poumons noircis à force de fumer du mc, il se</td>\n",
       "    </tr>\n",
       "    <tr>\n",
       "      <th>611</th>\n",
       "      <td>3095 pt2</td>\n",
       "      <td>alpha wann</td>\n",
       "      <td>et la défaite du diable check, how, pourvu qu'mes poumons tiennent dans la lignée boumédiène la lutte est un</td>\n",
       "    </tr>\n",
       "    <tr>\n",
       "      <th>612</th>\n",
       "      <td>biche</td>\n",
       "      <td>shay</td>\n",
       "      <td>cette pute je ne fais que la fumer même mes poumons me supplient d'arrêter tes longues histoires tiendront pas</td>\n",
       "    </tr>\n",
       "    <tr>\n",
       "      <th>613</th>\n",
       "      <td>ağla</td>\n",
       "      <td>rota</td>\n",
       "      <td>kütahyalı gibi saksoyla meşhur artık uzakta tut lütfen şu iğrelti poponu bilal'e anlatır gibi anlatcam sizlere çocuk o zaman</td>\n",
       "    </tr>\n",
       "    <tr>\n",
       "      <th>614</th>\n",
       "      <td>moneygram</td>\n",
       "      <td>nahir</td>\n",
       "      <td>vois rouge vif comme mohamed salah et mané sans trophy poumons noirs comme si j'étais né dans l'coffee</td>\n",
       "    </tr>\n",
       "  </tbody>\n",
       "</table>\n",
       "<p>615 rows × 3 columns</p>\n",
       "</div>"
      ],
      "text/plain": [
       "                       song_title           artist_name  \\\n",
       "0                         humble.        kendrick lamar   \n",
       "1    facts (charlie heat version)            kanye west   \n",
       "2           detroit vs. everybody                eminem   \n",
       "3                 show me (remix)               kid ink   \n",
       "4                          alaska          brockhampton   \n",
       "..                            ...                   ...   \n",
       "610           ça fait mal (remix)             la fouine   \n",
       "611                      3095 pt2            alpha wann   \n",
       "612                         biche                  shay   \n",
       "613                          ağla                  rota   \n",
       "614                     moneygram                 nahir   \n",
       "\n",
       "                                                                                                                     lyric_values  \n",
       "0                         bout it, ayy, she elaborate it, ayy this that grey poupon, that evian, that ted talk, ayy watch my soul  \n",
       "1                                      yeezy, yeezy, this is pure luxury i give 'em grey poupon on a dj mustard, ah! if you ain't  \n",
       "2                         lived a lifetime a few times from futons to grey poupons in church, tryna get a little savings, yeah, a  \n",
       "3                               coupons just bought a car, that  came with grey poupon (ooh) baby, let me put your panties to the  \n",
       "4                                 the coupe is mustard colored, what the  is grey poupon? young k.a., never quit your day job, uh  \n",
       "..                                                                                                                            ...  \n",
       "610                          une connexion plus attendue que \"detox\" mon flow a les poumons noircis à force de fumer du mc, il se  \n",
       "611                  et la défaite du diable check, how, pourvu qu'mes poumons tiennent dans la lignée boumédiène la lutte est un  \n",
       "612                cette pute je ne fais que la fumer même mes poumons me supplient d'arrêter tes longues histoires tiendront pas  \n",
       "613  kütahyalı gibi saksoyla meşhur artık uzakta tut lütfen şu iğrelti poponu bilal'e anlatır gibi anlatcam sizlere çocuk o zaman  \n",
       "614                        vois rouge vif comme mohamed salah et mané sans trophy poumons noirs comme si j'étais né dans l'coffee  \n",
       "\n",
       "[615 rows x 3 columns]"
      ]
     },
     "execution_count": 23,
     "metadata": {},
     "output_type": "execute_result"
    }
   ],
   "source": [
    "# Check first and last 5 entries to see how the results look\n",
    "pd.set_option('max_colwidth', 400)\n",
    "lyric_df"
   ]
  },
  {
   "cell_type": "markdown",
   "id": "e481de05",
   "metadata": {},
   "source": [
    "### Since the last five search results appear to be irrelevant, find how many don't contain \"poupon\":"
   ]
  },
  {
   "cell_type": "code",
   "execution_count": 24,
   "id": "99f854d9",
   "metadata": {},
   "outputs": [
    {
     "data": {
      "text/plain": [
       "lyric_values\n",
       "True     564\n",
       "False     51\n",
       "Name: count, dtype: int64"
      ]
     },
     "execution_count": 24,
     "metadata": {},
     "output_type": "execute_result"
    }
   ],
   "source": [
    "# Search lyric values do not contain \"Poupon\" in them\n",
    "lyric_df.lyric_values.str.contains('Poupon', regex=False, case=False).value_counts()"
   ]
  },
  {
   "cell_type": "code",
   "execution_count": 25,
   "id": "be947ff2",
   "metadata": {},
   "outputs": [
    {
     "data": {
      "text/html": [
       "<div>\n",
       "<style scoped>\n",
       "    .dataframe tbody tr th:only-of-type {\n",
       "        vertical-align: middle;\n",
       "    }\n",
       "\n",
       "    .dataframe tbody tr th {\n",
       "        vertical-align: top;\n",
       "    }\n",
       "\n",
       "    .dataframe thead th {\n",
       "        text-align: right;\n",
       "    }\n",
       "</style>\n",
       "<table border=\"1\" class=\"dataframe\">\n",
       "  <thead>\n",
       "    <tr style=\"text-align: right;\">\n",
       "      <th></th>\n",
       "      <th>song_title</th>\n",
       "      <th>artist_name</th>\n",
       "      <th>lyric_values</th>\n",
       "    </tr>\n",
       "  </thead>\n",
       "  <tbody>\n",
       "    <tr>\n",
       "      <th>0</th>\n",
       "      <td>humble.</td>\n",
       "      <td>kendrick lamar</td>\n",
       "      <td>bout it, ayy, she elaborate it, ayy this that grey poupon, that evian, that ted talk, ayy watch my soul</td>\n",
       "    </tr>\n",
       "    <tr>\n",
       "      <th>1</th>\n",
       "      <td>facts (charlie heat version)</td>\n",
       "      <td>kanye west</td>\n",
       "      <td>yeezy, yeezy, this is pure luxury i give 'em grey poupon on a dj mustard, ah! if you ain't</td>\n",
       "    </tr>\n",
       "    <tr>\n",
       "      <th>2</th>\n",
       "      <td>detroit vs. everybody</td>\n",
       "      <td>eminem</td>\n",
       "      <td>lived a lifetime a few times from futons to grey poupons in church, tryna get a little savings, yeah, a</td>\n",
       "    </tr>\n",
       "    <tr>\n",
       "      <th>3</th>\n",
       "      <td>show me (remix)</td>\n",
       "      <td>kid ink</td>\n",
       "      <td>coupons just bought a car, that  came with grey poupon (ooh) baby, let me put your panties to the</td>\n",
       "    </tr>\n",
       "    <tr>\n",
       "      <th>4</th>\n",
       "      <td>alaska</td>\n",
       "      <td>brockhampton</td>\n",
       "      <td>the coupe is mustard colored, what the  is grey poupon? young k.a., never quit your day job, uh</td>\n",
       "    </tr>\n",
       "    <tr>\n",
       "      <th>...</th>\n",
       "      <td>...</td>\n",
       "      <td>...</td>\n",
       "      <td>...</td>\n",
       "    </tr>\n",
       "    <tr>\n",
       "      <th>560</th>\n",
       "      <td>elle vient chanter ma chanson</td>\n",
       "      <td>philippe chatel</td>\n",
       "      <td>j'étais l'arête sans l'brochet le hochet sans poupon et j'étais dingue j'étais dingue - et j</td>\n",
       "    </tr>\n",
       "    <tr>\n",
       "      <th>561</th>\n",
       "      <td>j’ai essayé</td>\n",
       "      <td>nicolas bacchus</td>\n",
       "      <td>et caleçon\" les nus sous l'édredon les maigres, les poupons et puis, on se rhabille j'ai soufflé des</td>\n",
       "    </tr>\n",
       "    <tr>\n",
       "      <th>562</th>\n",
       "      <td>we all on</td>\n",
       "      <td>klimate kai</td>\n",
       "      <td>a  to the right and they lookin' like grey poupon bad lil'  and she came from the island</td>\n",
       "    </tr>\n",
       "    <tr>\n",
       "      <th>563</th>\n",
       "      <td>stupide ¡ stupide ¡ stupide ¡ (live)</td>\n",
       "      <td>casseurs flowters</td>\n",
       "      <td>panthère tu peux m'trouver sur un téton comme un poupon trentenaire j'opère en vacances, en carence, en latence</td>\n",
       "    </tr>\n",
       "    <tr>\n",
       "      <th>564</th>\n",
       "      <td>coeur meringue</td>\n",
       "      <td>stache</td>\n",
       "      <td>con j'parle d'avoir un gosse, d'acheter des poupons imagine comme c'est beau, c'est loin bah</td>\n",
       "    </tr>\n",
       "  </tbody>\n",
       "</table>\n",
       "<p>564 rows × 3 columns</p>\n",
       "</div>"
      ],
      "text/plain": [
       "                               song_title              artist_name  \\\n",
       "0                                 humble.           kendrick lamar   \n",
       "1            facts (charlie heat version)               kanye west   \n",
       "2                   detroit vs. everybody                   eminem   \n",
       "3                         show me (remix)                  kid ink   \n",
       "4                                  alaska             brockhampton   \n",
       "..                                    ...                      ...   \n",
       "560         elle vient chanter ma chanson          philippe chatel   \n",
       "561                           j’ai essayé          nicolas bacchus   \n",
       "562                             we all on              klimate kai   \n",
       "563  stupide ¡ stupide ¡ stupide ¡ (live)        casseurs flowters   \n",
       "564                        coeur meringue                   stache   \n",
       "\n",
       "                                                                                                        lyric_values  \n",
       "0            bout it, ayy, she elaborate it, ayy this that grey poupon, that evian, that ted talk, ayy watch my soul  \n",
       "1                         yeezy, yeezy, this is pure luxury i give 'em grey poupon on a dj mustard, ah! if you ain't  \n",
       "2            lived a lifetime a few times from futons to grey poupons in church, tryna get a little savings, yeah, a  \n",
       "3                  coupons just bought a car, that  came with grey poupon (ooh) baby, let me put your panties to the  \n",
       "4                    the coupe is mustard colored, what the  is grey poupon? young k.a., never quit your day job, uh  \n",
       "..                                                                                                               ...  \n",
       "560                     j'étais l'arête sans l'brochet le hochet sans poupon et j'étais dingue j'étais dingue - et j  \n",
       "561             et caleçon\" les nus sous l'édredon les maigres, les poupons et puis, on se rhabille j'ai soufflé des  \n",
       "562                         a  to the right and they lookin' like grey poupon bad lil'  and she came from the island  \n",
       "563  panthère tu peux m'trouver sur un téton comme un poupon trentenaire j'opère en vacances, en carence, en latence  \n",
       "564                     con j'parle d'avoir un gosse, d'acheter des poupons imagine comme c'est beau, c'est loin bah  \n",
       "\n",
       "[564 rows x 3 columns]"
      ]
     },
     "execution_count": 25,
     "metadata": {},
     "output_type": "execute_result"
    }
   ],
   "source": [
    "# Remove songs that do not have \"Poupon\" in their lyric values\n",
    "    # Create dataframe that only shows entries whose lyrics contain \"Poupon\"\n",
    "poupon_lyric_df = lyric_df[lyric_df['lyric_values'].str.contains('Poupon', regex=False, case=False) == True]\n",
    "poupon_lyric_df"
   ]
  },
  {
   "cell_type": "markdown",
   "id": "8c572a53",
   "metadata": {},
   "source": [
    "### It looks like French songs are inflating results due to poupon meaning \"doll/baby\" as opposed to referencing the mustard brand:\n"
   ]
  },
  {
   "cell_type": "code",
   "execution_count": 26,
   "id": "3f4ad77b",
   "metadata": {},
   "outputs": [],
   "source": [
    "# Solution is to remove songs identified as being in French\n",
    "# Method to ID French songs is with .contains() and regex formula to find all values in text column that contain a character other than Basic Latin ASCII encoding\n",
    "# This will eliminate most songs mentioning \"poupon\" not related to the mustard brand\n",
    "\n",
    "# Regex logic:\n",
    "    # The regex formula allows the program to find accented letters not found in the english alphabet by searching by unicode (i.e. Basic Latin 0000 - 007F)\n",
    "    # [^...] = any character other than what's in bracket\n",
    "    # \"-\" (dash) = range of numerical values between left and right values\n",
    "    # \\x = regex code for period (\".\") which in turn means \"any character\" to dynamically search range of unicode digits\n",
    "    # Resulting translation of regex is \"any character that is NOT basic latin\"\n",
    "    # Translation of full pandas statement with regex formula is \"filter out any entries that contain characters outside of Basic Latin (i.e. avoid ñ, ó, etc.)\"\n",
    "\n",
    "poupon_lyric_df = poupon_lyric_df[~poupon_lyric_df['lyric_values'].str.contains(r'[^\\x00-\\x7F]')]"
   ]
  },
  {
   "cell_type": "markdown",
   "id": "6ae9ddce",
   "metadata": {},
   "source": [
    "### Now that the dataframe has been filtered down to relevant data, we can now begin our analysis in-depth"
   ]
  },
  {
   "cell_type": "code",
   "execution_count": 27,
   "id": "ef117bbb",
   "metadata": {},
   "outputs": [
    {
     "data": {
      "text/html": [
       "<div>\n",
       "<style scoped>\n",
       "    .dataframe tbody tr th:only-of-type {\n",
       "        vertical-align: middle;\n",
       "    }\n",
       "\n",
       "    .dataframe tbody tr th {\n",
       "        vertical-align: top;\n",
       "    }\n",
       "\n",
       "    .dataframe thead th {\n",
       "        text-align: right;\n",
       "    }\n",
       "</style>\n",
       "<table border=\"1\" class=\"dataframe\">\n",
       "  <thead>\n",
       "    <tr style=\"text-align: right;\">\n",
       "      <th></th>\n",
       "      <th>song_title</th>\n",
       "      <th>artist_name</th>\n",
       "      <th>lyric_values</th>\n",
       "    </tr>\n",
       "  </thead>\n",
       "  <tbody>\n",
       "    <tr>\n",
       "      <th>0</th>\n",
       "      <td>humble.</td>\n",
       "      <td>kendrick lamar</td>\n",
       "      <td>bout it, ayy, she elaborate it, ayy this that grey poupon, that evian, that ted talk, ayy watch my soul</td>\n",
       "    </tr>\n",
       "    <tr>\n",
       "      <th>1</th>\n",
       "      <td>facts (charlie heat version)</td>\n",
       "      <td>kanye west</td>\n",
       "      <td>yeezy, yeezy, this is pure luxury i give 'em grey poupon on a dj mustard, ah! if you ain't</td>\n",
       "    </tr>\n",
       "    <tr>\n",
       "      <th>2</th>\n",
       "      <td>detroit vs. everybody</td>\n",
       "      <td>eminem</td>\n",
       "      <td>lived a lifetime a few times from futons to grey poupons in church, tryna get a little savings, yeah, a</td>\n",
       "    </tr>\n",
       "    <tr>\n",
       "      <th>3</th>\n",
       "      <td>show me (remix)</td>\n",
       "      <td>kid ink</td>\n",
       "      <td>coupons just bought a car, that  came with grey poupon (ooh) baby, let me put your panties to the</td>\n",
       "    </tr>\n",
       "    <tr>\n",
       "      <th>4</th>\n",
       "      <td>alaska</td>\n",
       "      <td>brockhampton</td>\n",
       "      <td>the coupe is mustard colored, what the  is grey poupon? young k.a., never quit your day job, uh</td>\n",
       "    </tr>\n",
       "    <tr>\n",
       "      <th>...</th>\n",
       "      <td>...</td>\n",
       "      <td>...</td>\n",
       "      <td>...</td>\n",
       "    </tr>\n",
       "    <tr>\n",
       "      <th>556</th>\n",
       "      <td>thirsty fish</td>\n",
       "      <td>wu-tang clan</td>\n",
       "      <td>triple sevens broke the slot machines out in queens, grey poupon is rebel on rap smack on, swing like batons</td>\n",
       "    </tr>\n",
       "    <tr>\n",
       "      <th>557</th>\n",
       "      <td>6am in san antonio</td>\n",
       "      <td>dingo johnson</td>\n",
       "      <td>em i'm sittin in a pond throwed sipping grey poupon yo passing out like rondo so beat it like</td>\n",
       "    </tr>\n",
       "    <tr>\n",
       "      <th>559</th>\n",
       "      <td>the right one/father to son interlude</td>\n",
       "      <td>john forté</td>\n",
       "      <td>kicks on toe - toes, with my brother pass the grey poupon hoe cronies, i don't know what the</td>\n",
       "    </tr>\n",
       "    <tr>\n",
       "      <th>562</th>\n",
       "      <td>we all on</td>\n",
       "      <td>klimate kai</td>\n",
       "      <td>a  to the right and they lookin' like grey poupon bad lil'  and she came from the island</td>\n",
       "    </tr>\n",
       "    <tr>\n",
       "      <th>564</th>\n",
       "      <td>coeur meringue</td>\n",
       "      <td>stache</td>\n",
       "      <td>con j'parle d'avoir un gosse, d'acheter des poupons imagine comme c'est beau, c'est loin bah</td>\n",
       "    </tr>\n",
       "  </tbody>\n",
       "</table>\n",
       "<p>403 rows × 3 columns</p>\n",
       "</div>"
      ],
      "text/plain": [
       "                                song_title           artist_name  \\\n",
       "0                                  humble.        kendrick lamar   \n",
       "1             facts (charlie heat version)            kanye west   \n",
       "2                    detroit vs. everybody                eminem   \n",
       "3                          show me (remix)               kid ink   \n",
       "4                                   alaska          brockhampton   \n",
       "..                                     ...                   ...   \n",
       "556                           thirsty fish          wu-tang clan   \n",
       "557                     6am in san antonio         dingo johnson   \n",
       "559  the right one/father to son interlude            john forté   \n",
       "562                              we all on           klimate kai   \n",
       "564                         coeur meringue                stache   \n",
       "\n",
       "                                                                                                     lyric_values  \n",
       "0         bout it, ayy, she elaborate it, ayy this that grey poupon, that evian, that ted talk, ayy watch my soul  \n",
       "1                      yeezy, yeezy, this is pure luxury i give 'em grey poupon on a dj mustard, ah! if you ain't  \n",
       "2         lived a lifetime a few times from futons to grey poupons in church, tryna get a little savings, yeah, a  \n",
       "3               coupons just bought a car, that  came with grey poupon (ooh) baby, let me put your panties to the  \n",
       "4                 the coupe is mustard colored, what the  is grey poupon? young k.a., never quit your day job, uh  \n",
       "..                                                                                                            ...  \n",
       "556  triple sevens broke the slot machines out in queens, grey poupon is rebel on rap smack on, swing like batons  \n",
       "557                 em i'm sittin in a pond throwed sipping grey poupon yo passing out like rondo so beat it like  \n",
       "559                 kicks on toe - toes, with my brother pass the grey poupon hoe cronies, i don't know what the   \n",
       "562                      a  to the right and they lookin' like grey poupon bad lil'  and she came from the island  \n",
       "564                  con j'parle d'avoir un gosse, d'acheter des poupons imagine comme c'est beau, c'est loin bah  \n",
       "\n",
       "[403 rows x 3 columns]"
      ]
     },
     "execution_count": 27,
     "metadata": {},
     "output_type": "execute_result"
    }
   ],
   "source": [
    "poupon_lyric_df"
   ]
  },
  {
   "cell_type": "markdown",
   "id": "998bd0d6",
   "metadata": {},
   "source": [
    "<a id='brand'></a>\n",
    "## 1. How many songs mention the brand?"
   ]
  },
  {
   "cell_type": "markdown",
   "id": "66b83fb1",
   "metadata": {},
   "source": [
    "### 1.1 Checking the length of the dataframe, we can see that there are 401 total songs mentioning the word \"poupon\":"
   ]
  },
  {
   "cell_type": "code",
   "execution_count": 28,
   "id": "f146e47f",
   "metadata": {},
   "outputs": [
    {
     "data": {
      "text/plain": [
       "403"
      ]
     },
     "execution_count": 28,
     "metadata": {},
     "output_type": "execute_result"
    }
   ],
   "source": [
    "len(poupon_lyric_df)"
   ]
  },
  {
   "cell_type": "markdown",
   "id": "31cb4942",
   "metadata": {},
   "source": [
    "<a id='top_artists'></a>\n",
    "## 2. Which artists have made references to Grey Poupon? How many times?"
   ]
  },
  {
   "cell_type": "code",
   "execution_count": 29,
   "id": "d2417614",
   "metadata": {},
   "outputs": [
    {
     "data": {
      "text/plain": [
       "artist_name\n",
       "      lil wayne         4\n",
       "      jim jones         4\n",
       "      kanye west        3\n",
       "      kendrick lamar    2\n",
       "      wisemen           2\n",
       "      dmx               2\n",
       "      juicy j           2\n",
       "      mac dre           2\n",
       "      xv                2\n",
       "      serengeti         2\n",
       "Name: count, dtype: int64"
      ]
     },
     "execution_count": 29,
     "metadata": {},
     "output_type": "execute_result"
    }
   ],
   "source": [
    "# Check top ten artists mentioning \"Poupon\" in lyrics\n",
    "poupon_lyric_df['artist_name'].value_counts().head(10)"
   ]
  },
  {
   "cell_type": "code",
   "execution_count": 30,
   "id": "b35f65e8",
   "metadata": {},
   "outputs": [],
   "source": [
    "# Remove Genius translation artists\n",
    "poupon_lyric_df = poupon_lyric_df[poupon_lyric_df['artist_name'].str.contains('Genius', regex=False) == False]\n"
   ]
  },
  {
   "cell_type": "code",
   "execution_count": 31,
   "id": "f1b5bc17",
   "metadata": {
    "scrolled": false
   },
   "outputs": [
    {
     "data": {
      "image/png": "[encoded data removed]",
      "text/plain": [
       "<Figure size 640x480 with 1 Axes>"
      ]
     },
     "metadata": {},
     "output_type": "display_data"
    }
   ],
   "source": [
    "# Top ten artists with songs mentioning \"poupon\" in lyrics\n",
    "ax = poupon_lyric_df['artist_name'].value_counts().head(10).plot.bar(title='Top Ten Artists with \"Poupon\" in Lyrics', color='gold')\n",
    "ax.set_facecolor('gray')\n",
    "plt.xticks(rotation=45, ha='right')\n",
    "ax.set(xlabel=None)\n",
    "\n",
    "# Add labels to top of each bar\n",
    "for container in ax.containers:\n",
    "    ax.bar_label(container, color='w')\n",
    "\n"
   ]
  },
  {
   "cell_type": "markdown",
   "id": "a26bb568",
   "metadata": {},
   "source": [
    "<a id='grey_vs_gray'></a>\n",
    "## 3. Are there alternative spellings of Grey (i.e. Gray) used as well?"
   ]
  },
  {
   "cell_type": "markdown",
   "id": "61c56d19",
   "metadata": {},
   "source": [
    "### 3.1 First we will make all characters lowercase and remove special characters (i.e. apostrophes, commas, etc.):"
   ]
  },
  {
   "cell_type": "code",
   "execution_count": 32,
   "id": "f9aa8e12",
   "metadata": {},
   "outputs": [],
   "source": [
    "# Grey vs Gray vs neither comparison\n",
    "    # Share of songs that spell grey, gray or neither in lyrics\n",
    "    \n",
    "# Make all characters lowercase in lyric_values to avoid double entries due to case sensitivity\n",
    "lower_poupon_lyrics = poupon_lyric_df['lyric_values'].str.lower()"
   ]
  },
  {
   "cell_type": "code",
   "execution_count": 33,
   "id": "81cab576",
   "metadata": {},
   "outputs": [],
   "source": [
    "# Remove all non-alphabet characters from lyric_values\n",
    "for lyric_line in lower_poupon_lyrics:\n",
    "    for character in lyric_line:\n",
    "        if character.isalpha() == False:\n",
    "            lower_poupon_lyrics = lower_poupon_lyrics.str.replace(character, ' ', regex=False)"
   ]
  },
  {
   "cell_type": "code",
   "execution_count": 34,
   "id": "1a6137b3",
   "metadata": {},
   "outputs": [],
   "source": [
    "# With an \"e\"\n",
    "with_e_series = lower_poupon_lyrics[lower_poupon_lyrics.str.contains('grey', regex=False, case=False)] == True\n",
    "\n",
    "# With an \"a\"\n",
    "with_a_series = lower_poupon_lyrics[lower_poupon_lyrics.str.contains('gray', regex=False, case=False)] == True\n",
    "\n",
    "# Neither word mentioned in lyrics\n",
    "neither_series = (lower_poupon_lyrics.str.contains('grey', regex=False, case=False) == False) & (lower_poupon_lyrics.str.contains('gray', regex=False, case=False) == False)\n",
    "neither_series = (neither_series[neither_series] == True)"
   ]
  },
  {
   "cell_type": "code",
   "execution_count": 35,
   "id": "267d130d",
   "metadata": {},
   "outputs": [
    {
     "data": {
      "text/html": [
       "<div>\n",
       "<style scoped>\n",
       "    .dataframe tbody tr th:only-of-type {\n",
       "        vertical-align: middle;\n",
       "    }\n",
       "\n",
       "    .dataframe tbody tr th {\n",
       "        vertical-align: top;\n",
       "    }\n",
       "\n",
       "    .dataframe thead th {\n",
       "        text-align: right;\n",
       "    }\n",
       "</style>\n",
       "<table border=\"1\" class=\"dataframe\">\n",
       "  <thead>\n",
       "    <tr style=\"text-align: right;\">\n",
       "      <th></th>\n",
       "      <th>count</th>\n",
       "    </tr>\n",
       "  </thead>\n",
       "  <tbody>\n",
       "    <tr>\n",
       "      <th>grey</th>\n",
       "      <td>349</td>\n",
       "    </tr>\n",
       "    <tr>\n",
       "      <th>gray</th>\n",
       "      <td>17</td>\n",
       "    </tr>\n",
       "    <tr>\n",
       "      <th>neither</th>\n",
       "      <td>39</td>\n",
       "    </tr>\n",
       "  </tbody>\n",
       "</table>\n",
       "</div>"
      ],
      "text/plain": [
       "         count\n",
       "grey       349\n",
       "gray        17\n",
       "neither     39"
      ]
     },
     "execution_count": 35,
     "metadata": {},
     "output_type": "execute_result"
    }
   ],
   "source": [
    "e_vs_a_vs_none_df = pd.DataFrame(index=['grey', 'gray', 'neither'], data=[len(with_e_series), len(with_a_series), len(neither_series)], columns=['count'])\n",
    "e_vs_a_vs_none_df\n"
   ]
  },
  {
   "cell_type": "markdown",
   "id": "de7a68d5",
   "metadata": {},
   "source": [
    "### 3.2 With our count of grey, gray and neither categories, we now have a pie chart showing the breakdown. It's interesting that there are spellings with an \"a\" when the brand is with an \"e\"!"
   ]
  },
  {
   "cell_type": "code",
   "execution_count": 36,
   "id": "7e91a36e",
   "metadata": {
    "scrolled": false
   },
   "outputs": [
    {
     "data": {
      "image/png": "[encoded data removed]",
      "text/plain": [
       "<Figure size 640x480 with 1 Axes>"
      ]
     },
     "metadata": {},
     "output_type": "display_data"
    }
   ],
   "source": [
    "# Pie chart for grey vs gray vs neither\n",
    "e_vs_a_vs_none_pie = e_vs_a_vs_none_df.plot.pie(y='count', colors=['gray', 'lightgray', 'gold'], ylabel='', autopct='%.1f%%')\n",
    "e_vs_a_vs_none_pie.set_title('Grey vs Gray Usage in Lyrics');"
   ]
  },
  {
   "cell_type": "markdown",
   "id": "34a9658e",
   "metadata": {},
   "source": [
    "<a id='top_words'></a>\n",
    "## 4. What are the top ten words in the lyrics?"
   ]
  },
  {
   "cell_type": "markdown",
   "id": "6e3a283d",
   "metadata": {},
   "source": [
    "### 4.1 Now we will create split the lyric values into individual words, stack words into one column then count occurrences:"
   ]
  },
  {
   "cell_type": "code",
   "execution_count": 37,
   "id": "8454678d",
   "metadata": {},
   "outputs": [],
   "source": [
    "word_count_df_2 = lower_poupon_lyrics.str.split(expand=True)\n",
    "\n",
    "word_count_df_3 = word_count_df_2.stack()\n"
   ]
  },
  {
   "cell_type": "code",
   "execution_count": 38,
   "id": "54e9c030",
   "metadata": {
    "scrolled": true
   },
   "outputs": [
    {
     "data": {
      "text/plain": [
       "poupon    391\n",
       "grey      357\n",
       "the       285\n",
       "i         271\n",
       "on        186\n",
       "a         176\n",
       "like      162\n",
       "you       133\n",
       "my        129\n",
       "it        108\n",
       "Name: count, dtype: int64"
      ]
     },
     "execution_count": 38,
     "metadata": {},
     "output_type": "execute_result"
    }
   ],
   "source": [
    "top_words_series = word_count_df_3.value_counts()\n",
    "top_words_series.head(10)"
   ]
  },
  {
   "cell_type": "code",
   "execution_count": 39,
   "id": "351da113",
   "metadata": {
    "scrolled": true
   },
   "outputs": [],
   "source": [
    "# Remove single character words from series as they do not have much value in meaning\n",
    "for word in top_words_series.index:\n",
    "    if len(word) < 2:\n",
    "        top_words_series = top_words_series.drop(labels=word)\n"
   ]
  },
  {
   "cell_type": "code",
   "execution_count": 40,
   "id": "5fe1da29",
   "metadata": {},
   "outputs": [
    {
     "data": {
      "text/plain": [
       "poupon    391\n",
       "grey      357\n",
       "the       285\n",
       "on        186\n",
       "like      162\n",
       "you       133\n",
       "my        129\n",
       "it        108\n",
       "and       107\n",
       "that      105\n",
       "Name: count, dtype: int64"
      ]
     },
     "execution_count": 40,
     "metadata": {},
     "output_type": "execute_result"
    }
   ],
   "source": [
    "top_words_series.head(10)"
   ]
  },
  {
   "cell_type": "markdown",
   "id": "cfc263d3",
   "metadata": {},
   "source": [
    "### 4.2 Here is the first bar graph using the word data. However, the results are burying verbs, nouns and adjectives, so we will use the textblob library later on to filter only for those."
   ]
  },
  {
   "cell_type": "code",
   "execution_count": 41,
   "id": "92f3b831",
   "metadata": {
    "scrolled": false
   },
   "outputs": [
    {
     "data": {
      "image/png": "[encoded data removed]",
      "text/plain": [
       "<Figure size 640x480 with 1 Axes>"
      ]
     },
     "metadata": {},
     "output_type": "display_data"
    }
   ],
   "source": [
    "# Top ten words in lyrics\n",
    "    # Results are burying verbs, nouns and adjectives, so we will use the textblob library later on to filter only for those\n",
    "ax = top_words_series.head(10).plot.bar(title='Top Ten Words in Lyrics', color='gold')\n",
    "ax.set_facecolor('gray')\n",
    "plt.xticks(rotation=45, ha='right')\n",
    "ax.set(xlabel=None)\n",
    "\n",
    "# Add labels to top of each bar\n",
    "for container in ax.containers:\n",
    "    ax.bar_label(container, color='w')\n"
   ]
  },
  {
   "cell_type": "markdown",
   "id": "ffca4dac",
   "metadata": {},
   "source": [
    "<a id='poupon_permutations'></a>\n",
    "## 5. Are there permutations of the word \"Poupon\" in the lyrics and what are they?"
   ]
  },
  {
   "cell_type": "markdown",
   "id": "96022031",
   "metadata": {},
   "source": [
    "### 5.1 Often in the Hip Hop genre, artists take liberties in the grammar, pronunciation and spellings of words. Let's take a look at all words containing \"poupon\":"
   ]
  },
  {
   "cell_type": "code",
   "execution_count": 42,
   "id": "2e7387fc",
   "metadata": {},
   "outputs": [],
   "source": [
    "# Create dataframe from series\n",
    "top_words_df = top_words_series.to_frame()\n",
    "top_words_df = top_words_df.reset_index()"
   ]
  },
  {
   "cell_type": "code",
   "execution_count": 43,
   "id": "5f3ae432",
   "metadata": {
    "scrolled": false
   },
   "outputs": [
    {
     "data": {
      "text/html": [
       "<div>\n",
       "<style scoped>\n",
       "    .dataframe tbody tr th:only-of-type {\n",
       "        vertical-align: middle;\n",
       "    }\n",
       "\n",
       "    .dataframe tbody tr th {\n",
       "        vertical-align: top;\n",
       "    }\n",
       "\n",
       "    .dataframe thead th {\n",
       "        text-align: right;\n",
       "    }\n",
       "</style>\n",
       "<table border=\"1\" class=\"dataframe\">\n",
       "  <thead>\n",
       "    <tr style=\"text-align: right;\">\n",
       "      <th></th>\n",
       "      <th>word</th>\n",
       "      <th>count</th>\n",
       "    </tr>\n",
       "  </thead>\n",
       "  <tbody>\n",
       "    <tr>\n",
       "      <th>0</th>\n",
       "      <td>poupon</td>\n",
       "      <td>391</td>\n",
       "    </tr>\n",
       "    <tr>\n",
       "      <th>1</th>\n",
       "      <td>grey</td>\n",
       "      <td>357</td>\n",
       "    </tr>\n",
       "    <tr>\n",
       "      <th>2</th>\n",
       "      <td>the</td>\n",
       "      <td>285</td>\n",
       "    </tr>\n",
       "    <tr>\n",
       "      <th>3</th>\n",
       "      <td>on</td>\n",
       "      <td>186</td>\n",
       "    </tr>\n",
       "    <tr>\n",
       "      <th>4</th>\n",
       "      <td>like</td>\n",
       "      <td>162</td>\n",
       "    </tr>\n",
       "    <tr>\n",
       "      <th>...</th>\n",
       "      <td>...</td>\n",
       "      <td>...</td>\n",
       "    </tr>\n",
       "    <tr>\n",
       "      <th>1855</th>\n",
       "      <td>fold</td>\n",
       "      <td>1</td>\n",
       "    </tr>\n",
       "    <tr>\n",
       "      <th>1856</th>\n",
       "      <td>group</td>\n",
       "      <td>1</td>\n",
       "    </tr>\n",
       "    <tr>\n",
       "      <th>1857</th>\n",
       "      <td>livin</td>\n",
       "      <td>1</td>\n",
       "    </tr>\n",
       "    <tr>\n",
       "      <th>1858</th>\n",
       "      <td>bum</td>\n",
       "      <td>1</td>\n",
       "    </tr>\n",
       "    <tr>\n",
       "      <th>1859</th>\n",
       "      <td>bah</td>\n",
       "      <td>1</td>\n",
       "    </tr>\n",
       "  </tbody>\n",
       "</table>\n",
       "<p>1860 rows × 2 columns</p>\n",
       "</div>"
      ],
      "text/plain": [
       "        word  count\n",
       "0     poupon    391\n",
       "1       grey    357\n",
       "2        the    285\n",
       "3         on    186\n",
       "4       like    162\n",
       "...      ...    ...\n",
       "1855    fold      1\n",
       "1856   group      1\n",
       "1857   livin      1\n",
       "1858     bum      1\n",
       "1859     bah      1\n",
       "\n",
       "[1860 rows x 2 columns]"
      ]
     },
     "execution_count": 43,
     "metadata": {},
     "output_type": "execute_result"
    }
   ],
   "source": [
    "top_words_df = top_words_df.rename(columns={'index':'word'})\n",
    "top_words_df"
   ]
  },
  {
   "cell_type": "markdown",
   "id": "8534b1e3",
   "metadata": {},
   "source": [
    "### 5.2 Just as I hoped, there are quite a few different takes on the word! Something interesting to note is how it was changed to a verb with the spelling of \"pouponing\"."
   ]
  },
  {
   "cell_type": "code",
   "execution_count": 44,
   "id": "7ca809a8",
   "metadata": {},
   "outputs": [
    {
     "data": {
      "text/html": [
       "<div>\n",
       "<style scoped>\n",
       "    .dataframe tbody tr th:only-of-type {\n",
       "        vertical-align: middle;\n",
       "    }\n",
       "\n",
       "    .dataframe tbody tr th {\n",
       "        vertical-align: top;\n",
       "    }\n",
       "\n",
       "    .dataframe thead th {\n",
       "        text-align: right;\n",
       "    }\n",
       "</style>\n",
       "<table border=\"1\" class=\"dataframe\">\n",
       "  <thead>\n",
       "    <tr style=\"text-align: right;\">\n",
       "      <th></th>\n",
       "      <th>word</th>\n",
       "      <th>count</th>\n",
       "    </tr>\n",
       "  </thead>\n",
       "  <tbody>\n",
       "    <tr>\n",
       "      <th>0</th>\n",
       "      <td>poupon</td>\n",
       "      <td>391</td>\n",
       "    </tr>\n",
       "    <tr>\n",
       "      <th>97</th>\n",
       "      <td>poupons</td>\n",
       "      <td>10</td>\n",
       "    </tr>\n",
       "    <tr>\n",
       "      <th>293</th>\n",
       "      <td>pouponne</td>\n",
       "      <td>3</td>\n",
       "    </tr>\n",
       "    <tr>\n",
       "      <th>454</th>\n",
       "      <td>pouponner</td>\n",
       "      <td>2</td>\n",
       "    </tr>\n",
       "    <tr>\n",
       "      <th>1175</th>\n",
       "      <td>pouponin</td>\n",
       "      <td>1</td>\n",
       "    </tr>\n",
       "    <tr>\n",
       "      <th>1568</th>\n",
       "      <td>pouponing</td>\n",
       "      <td>1</td>\n",
       "    </tr>\n",
       "  </tbody>\n",
       "</table>\n",
       "</div>"
      ],
      "text/plain": [
       "           word  count\n",
       "0        poupon    391\n",
       "97      poupons     10\n",
       "293    pouponne      3\n",
       "454   pouponner      2\n",
       "1175   pouponin      1\n",
       "1568  pouponing      1"
      ]
     },
     "execution_count": 44,
     "metadata": {},
     "output_type": "execute_result"
    }
   ],
   "source": [
    "# See all permutations of \"poupon\" (i.e. all words containing \"poupon\")\n",
    "top_words_df[top_words_df['word'].str.contains('poupon')]"
   ]
  },
  {
   "cell_type": "markdown",
   "id": "8bdb2688",
   "metadata": {},
   "source": [
    "<a id='nouns_and_verbs'></a>\n",
    "## 6. What are the most common nouns and verbs used in song lyrics with Grey Poupon?"
   ]
  },
  {
   "cell_type": "code",
   "execution_count": 45,
   "id": "7b3ee298",
   "metadata": {},
   "outputs": [],
   "source": [
    "# Make a list from words series and combine to one string for use by textblob\n",
    "word_list = top_words_df['word'].to_list()\n",
    "word_list_str = ' '.join(word_list)\n",
    "\n",
    "# Remove \"\\'\" characters from string contents\n",
    "word_list_str = word_list_str.replace(\"\\'\", \"\")\n"
   ]
  },
  {
   "cell_type": "markdown",
   "id": "c8c9c148",
   "metadata": {},
   "source": [
    "### 6.1 Due to textblob's function of splitting contraction words into two (don't --> don, 't), we will remove all contraction words from dataset with a list of words from wikipedia [[3]](#citations)"
   ]
  },
  {
   "cell_type": "code",
   "execution_count": 46,
   "id": "555c9b11",
   "metadata": {},
   "outputs": [],
   "source": [
    "# Due to textblob's function of splitting contraction words into two (don't --> don, 't),\n",
    "    # we will remove all contraction words from dataset with a list of words from wikipedia\n",
    "# Open the URL of the webpage and scrape page's html\n",
    "url = requests.get('https://en.wikipedia.org/wiki/Wikipedia:List_of_English_contractions') \n",
    "\n",
    "page_html = bs(url.content) \n",
    "\n",
    "# Find table of contraction words to scrape in html\n",
    "table_data = page_html.find_all(\"tr\")\n",
    "table_data_list = list(table_data)\n",
    "table_data_list_str = []"
   ]
  },
  {
   "cell_type": "code",
   "execution_count": 47,
   "id": "bef5908a",
   "metadata": {},
   "outputs": [],
   "source": [
    "# Convert beautifulsoup object to list of strings\n",
    "collect_data(table_data_list, table_data_list_str)\n",
    "\n",
    "# Remove first few rows at top of lists due to unrelated search results\n",
    "table_data_list_str = table_data_list_str[2:]"
   ]
  },
  {
   "cell_type": "code",
   "execution_count": 48,
   "id": "3b26424a",
   "metadata": {
    "scrolled": true
   },
   "outputs": [],
   "source": [
    "clean_table_data_list = []\n",
    "\n",
    "# Remove leading and trailing html data from constraint word values\n",
    "remove_html_data(table_data_list_str, 9, clean_table_data_list)"
   ]
  },
  {
   "cell_type": "code",
   "execution_count": 49,
   "id": "56de3a9a",
   "metadata": {},
   "outputs": [],
   "source": [
    "# Remove \"(informal)\", \"(poetic)\" and \"(formal)\" from words\n",
    "clean_table_data_list_2 = []\n",
    "\n",
    "for word in clean_table_data_list:\n",
    "    if ' (informal)' in word:\n",
    "        clean_word = word.replace(' (informal)', '')\n",
    "        clean_table_data_list_2.append(clean_word)\n",
    "        \n",
    "    elif ' (poetic)' in word:\n",
    "        clean_word = word.replace(' (poetic)', '')\n",
    "        clean_table_data_list_2.append(clean_word)\n",
    "        \n",
    "    elif ' (formal)' in word:\n",
    "        clean_word = word.replace(' (formal)', '')\n",
    "        clean_table_data_list_2.append(clean_word)\n",
    "    \n",
    "    elif word == '':\n",
    "        continue\n",
    "    \n",
    "    else:\n",
    "        clean_table_data_list_2.append(word)\n",
    "\n",
    "# Remove \"/\", duplicate \"n\" value and punctuation characters from word entry\n",
    "clean_table_data_list_3 = []\n",
    "for word_2 in clean_table_data_list_2:\n",
    "    if r\"/\" in word_2:\n",
    "        clean_word_2 = word[:3]\n",
    "        clean_word_2 = clean_word_2.replace(\"’\", \"\")\n",
    "        clean_table_data_list_3.append(clean_word_2)\n",
    "    \n",
    "    elif \"’\" in word_2:\n",
    "        clean_word_2 = word_2.replace(\"’\", \"\")\n",
    "        clean_table_data_list_3.append(clean_word_2)\n",
    "        \n",
    "    elif r\"'\" in word_2:\n",
    "        clean_word_2 = word_2.replace(r\"'\", \"\")\n",
    "        clean_table_data_list_3.append(clean_word_2)\n",
    "        \n",
    "    else:\n",
    "        clean_table_data_list_3.append(word_2)\n",
    "\n"
   ]
  },
  {
   "cell_type": "code",
   "execution_count": 50,
   "id": "4c9707b8",
   "metadata": {},
   "outputs": [],
   "source": [
    "# Compare word_list_str to list of contraction words\n",
    "    # if found, word is removed from word_list_str\n",
    "for contraction_word in clean_table_data_list_3:\n",
    "    if contraction_word in word_list_str:\n",
    "        word_list_str = word_list_str.replace(contraction_word, '')\n"
   ]
  },
  {
   "cell_type": "code",
   "execution_count": 51,
   "id": "1b5ef03a",
   "metadata": {
    "scrolled": true
   },
   "outputs": [],
   "source": [
    "# Convert back to list for iterating through for textblob tags\n",
    "#     # Remove all non-alphabet characters\n",
    "word_list = word_list_str.split()\n"
   ]
  },
  {
   "cell_type": "code",
   "execution_count": 52,
   "id": "9fbd1403",
   "metadata": {
    "scrolled": true
   },
   "outputs": [],
   "source": [
    "# for loop to input text to textblob function for word catagory tagging\n",
    "word_list_tags = []\n",
    "word_list_name = []\n",
    "for word in word_list:\n",
    "    word_list_tag_blob = TextBlob(word)\n",
    "    word_list_name_blob = TextBlob(word)\n",
    "    word_list_name.append(word_list_name_blob.tags[0][0])\n",
    "    word_list_tags.append(word_list_tag_blob.tags[0][1])\n"
   ]
  },
  {
   "cell_type": "code",
   "execution_count": 53,
   "id": "e2cb5a62",
   "metadata": {},
   "outputs": [
    {
     "data": {
      "text/html": [
       "<div>\n",
       "<style scoped>\n",
       "    .dataframe tbody tr th:only-of-type {\n",
       "        vertical-align: middle;\n",
       "    }\n",
       "\n",
       "    .dataframe tbody tr th {\n",
       "        vertical-align: top;\n",
       "    }\n",
       "\n",
       "    .dataframe thead th {\n",
       "        text-align: right;\n",
       "    }\n",
       "</style>\n",
       "<table border=\"1\" class=\"dataframe\">\n",
       "  <thead>\n",
       "    <tr style=\"text-align: right;\">\n",
       "      <th></th>\n",
       "      <th>word</th>\n",
       "      <th>word_tag</th>\n",
       "    </tr>\n",
       "  </thead>\n",
       "  <tbody>\n",
       "    <tr>\n",
       "      <th>0</th>\n",
       "      <td>poupon</td>\n",
       "      <td>NN</td>\n",
       "    </tr>\n",
       "    <tr>\n",
       "      <th>1</th>\n",
       "      <td>grey</td>\n",
       "      <td>NN</td>\n",
       "    </tr>\n",
       "    <tr>\n",
       "      <th>2</th>\n",
       "      <td>the</td>\n",
       "      <td>DT</td>\n",
       "    </tr>\n",
       "    <tr>\n",
       "      <th>3</th>\n",
       "      <td>on</td>\n",
       "      <td>IN</td>\n",
       "    </tr>\n",
       "    <tr>\n",
       "      <th>4</th>\n",
       "      <td>like</td>\n",
       "      <td>IN</td>\n",
       "    </tr>\n",
       "    <tr>\n",
       "      <th>...</th>\n",
       "      <td>...</td>\n",
       "      <td>...</td>\n",
       "    </tr>\n",
       "    <tr>\n",
       "      <th>1833</th>\n",
       "      <td>fd</td>\n",
       "      <td>NN</td>\n",
       "    </tr>\n",
       "    <tr>\n",
       "      <th>1834</th>\n",
       "      <td>group</td>\n",
       "      <td>NN</td>\n",
       "    </tr>\n",
       "    <tr>\n",
       "      <th>1835</th>\n",
       "      <td>livin</td>\n",
       "      <td>NN</td>\n",
       "    </tr>\n",
       "    <tr>\n",
       "      <th>1836</th>\n",
       "      <td>bum</td>\n",
       "      <td>NN</td>\n",
       "    </tr>\n",
       "    <tr>\n",
       "      <th>1837</th>\n",
       "      <td>bah</td>\n",
       "      <td>NN</td>\n",
       "    </tr>\n",
       "  </tbody>\n",
       "</table>\n",
       "<p>1660 rows × 2 columns</p>\n",
       "</div>"
      ],
      "text/plain": [
       "        word word_tag\n",
       "0     poupon       NN\n",
       "1       grey       NN\n",
       "2        the       DT\n",
       "3         on       IN\n",
       "4       like       IN\n",
       "...      ...      ...\n",
       "1833      fd       NN\n",
       "1834   group       NN\n",
       "1835   livin       NN\n",
       "1836     bum       NN\n",
       "1837     bah       NN\n",
       "\n",
       "[1660 rows x 2 columns]"
      ]
     },
     "execution_count": 53,
     "metadata": {},
     "output_type": "execute_result"
    }
   ],
   "source": [
    "# Add tags as a new column to top_words_df\n",
    "word_tag_df = pd.DataFrame(list(zip(word_list_name, word_list_tags)), columns=['word', 'word_tag'])\n",
    "\n",
    "# Drop duplicates resulting from punctuation cleaning\n",
    "word_tag_df = word_tag_df.drop_duplicates()\n",
    "word_tag_df"
   ]
  },
  {
   "cell_type": "code",
   "execution_count": 54,
   "id": "57af760d",
   "metadata": {},
   "outputs": [],
   "source": [
    "# Join dataframes against word values to add tag column to top_words_df\n",
    "top_words_df_2 = pd.merge(top_words_df, word_tag_df, on='word', how='left')\n"
   ]
  },
  {
   "cell_type": "code",
   "execution_count": 55,
   "id": "d9a712fe",
   "metadata": {
    "scrolled": false
   },
   "outputs": [],
   "source": [
    "# Filter to only show nouns (singular, plural, proper, plural proper)\n",
    "top_words_df_2_nouns = top_words_df_2[(top_words_df_2['word_tag'] == 'NN') | (top_words_df_2['word_tag'] == 'NNS') | (top_words_df_2['word_tag'] == 'NNP') | (top_words_df_2['word_tag'] == 'NNPS')] \n"
   ]
  },
  {
   "cell_type": "code",
   "execution_count": 56,
   "id": "46befa01",
   "metadata": {},
   "outputs": [],
   "source": [
    "# Set word series to index to be usable for bar chart\n",
    "top_words_df_2_nouns = top_words_df_2_nouns.set_index('word')\n"
   ]
  },
  {
   "cell_type": "code",
   "execution_count": 57,
   "id": "0dd956d3",
   "metadata": {},
   "outputs": [
    {
     "data": {
      "text/html": [
       "<div>\n",
       "<style scoped>\n",
       "    .dataframe tbody tr th:only-of-type {\n",
       "        vertical-align: middle;\n",
       "    }\n",
       "\n",
       "    .dataframe tbody tr th {\n",
       "        vertical-align: top;\n",
       "    }\n",
       "\n",
       "    .dataframe thead th {\n",
       "        text-align: right;\n",
       "    }\n",
       "</style>\n",
       "<table border=\"1\" class=\"dataframe\">\n",
       "  <thead>\n",
       "    <tr style=\"text-align: right;\">\n",
       "      <th></th>\n",
       "      <th>count</th>\n",
       "      <th>word_tag</th>\n",
       "    </tr>\n",
       "    <tr>\n",
       "      <th>word</th>\n",
       "      <th></th>\n",
       "      <th></th>\n",
       "    </tr>\n",
       "  </thead>\n",
       "  <tbody>\n",
       "    <tr>\n",
       "      <th>poupon</th>\n",
       "      <td>391</td>\n",
       "      <td>NN</td>\n",
       "    </tr>\n",
       "    <tr>\n",
       "      <th>grey</th>\n",
       "      <td>357</td>\n",
       "      <td>NN</td>\n",
       "    </tr>\n",
       "    <tr>\n",
       "      <th>don</th>\n",
       "      <td>41</td>\n",
       "      <td>NN</td>\n",
       "    </tr>\n",
       "    <tr>\n",
       "      <th>ayy</th>\n",
       "      <td>28</td>\n",
       "      <td>NN</td>\n",
       "    </tr>\n",
       "    <tr>\n",
       "      <th>talk</th>\n",
       "      <td>20</td>\n",
       "      <td>NN</td>\n",
       "    </tr>\n",
       "    <tr>\n",
       "      <th>need</th>\n",
       "      <td>20</td>\n",
       "      <td>NN</td>\n",
       "    </tr>\n",
       "    <tr>\n",
       "      <th>coupon</th>\n",
       "      <td>19</td>\n",
       "      <td>NN</td>\n",
       "    </tr>\n",
       "    <tr>\n",
       "      <th>yeah</th>\n",
       "      <td>18</td>\n",
       "      <td>NN</td>\n",
       "    </tr>\n",
       "    <tr>\n",
       "      <th>eat</th>\n",
       "      <td>17</td>\n",
       "      <td>NN</td>\n",
       "    </tr>\n",
       "    <tr>\n",
       "      <th>gray</th>\n",
       "      <td>17</td>\n",
       "      <td>NN</td>\n",
       "    </tr>\n",
       "  </tbody>\n",
       "</table>\n",
       "</div>"
      ],
      "text/plain": [
       "        count word_tag\n",
       "word                  \n",
       "poupon    391       NN\n",
       "grey      357       NN\n",
       "don        41       NN\n",
       "ayy        28       NN\n",
       "talk       20       NN\n",
       "need       20       NN\n",
       "coupon     19       NN\n",
       "yeah       18       NN\n",
       "eat        17       NN\n",
       "gray       17       NN"
      ]
     },
     "execution_count": 57,
     "metadata": {},
     "output_type": "execute_result"
    }
   ],
   "source": [
    "top_words_df_2_nouns.head(10)"
   ]
  },
  {
   "cell_type": "code",
   "execution_count": 58,
   "id": "b3cb4fb1",
   "metadata": {},
   "outputs": [],
   "source": [
    "# Drop word_tag series from dataframe\n",
    "top_words_df_2_nouns = top_words_df_2_nouns.drop(columns=['word_tag'])\n"
   ]
  },
  {
   "cell_type": "code",
   "execution_count": 59,
   "id": "25a429e7",
   "metadata": {},
   "outputs": [],
   "source": [
    "# Remove \"poupon\", \"grey\" and \"gray\" due to higher counts from other nouns by a wide marginS\n",
    "top_words_df_2_nouns = top_words_df_2_nouns.drop(['poupon', 'grey', 'gray'], axis='index')"
   ]
  },
  {
   "cell_type": "markdown",
   "id": "7d30845a",
   "metadata": {},
   "source": [
    "### 6.2 Now that we can analyze the dataset for nouns and verbs, we can see for nouns that some are related to food (bread and eat)! Note that while \"eat\" is usually a verb, it can in fact be a noun in some instances. [[4]](#citations)"
   ]
  },
  {
   "cell_type": "code",
   "execution_count": 60,
   "id": "a7243ddc",
   "metadata": {},
   "outputs": [
    {
     "data": {
      "image/png": "[encoded data removed]",
      "text/plain": [
       "<Figure size 640x480 with 1 Axes>"
      ]
     },
     "metadata": {},
     "output_type": "display_data"
    }
   ],
   "source": [
    "# Top ten nouns in lyrics\n",
    "ax = top_words_df_2_nouns['count'].head(10).plot.bar(title='Top Ten Nouns in Lyrics', color='gold')\n",
    "ax.set_facecolor('gray')\n",
    "plt.xticks(rotation=45, ha='right')\n",
    "ax.set(xlabel=None)\n",
    "\n",
    "# Add labels to top of each bar\n",
    "for container in ax.containers:\n",
    "    ax.bar_label(container, color='w')"
   ]
  },
  {
   "cell_type": "markdown",
   "id": "d204d500",
   "metadata": {},
   "source": [
    "### 6.3 Now we will look at the verbs - Just like the nouns, there are two related to food (eating and have). This is definitely not a coincidence since we are looking at lyrics surrounding the brand name of a condiment!"
   ]
  },
  {
   "cell_type": "code",
   "execution_count": 61,
   "id": "aae5f09c",
   "metadata": {},
   "outputs": [],
   "source": [
    "# Filter to only show verbs (singular, plural, proper, plural proper)\n",
    "top_words_df_2_verbs = top_words_df_2[(top_words_df_2['word_tag'] == 'VB') | (top_words_df_2['word_tag'] == 'VBD') | (top_words_df_2['word_tag'] == 'VBG') | (top_words_df_2['word_tag'] == 'VBN') | (top_words_df_2['word_tag'] == 'VBP') | (top_words_df_2['word_tag'] == 'VBZ')] \n"
   ]
  },
  {
   "cell_type": "code",
   "execution_count": 62,
   "id": "8658106c",
   "metadata": {},
   "outputs": [
    {
     "data": {
      "text/html": [
       "<div>\n",
       "<style scoped>\n",
       "    .dataframe tbody tr th:only-of-type {\n",
       "        vertical-align: middle;\n",
       "    }\n",
       "\n",
       "    .dataframe tbody tr th {\n",
       "        vertical-align: top;\n",
       "    }\n",
       "\n",
       "    .dataframe thead th {\n",
       "        text-align: right;\n",
       "    }\n",
       "</style>\n",
       "<table border=\"1\" class=\"dataframe\">\n",
       "  <thead>\n",
       "    <tr style=\"text-align: right;\">\n",
       "      <th></th>\n",
       "      <th>count</th>\n",
       "      <th>word_tag</th>\n",
       "    </tr>\n",
       "    <tr>\n",
       "      <th>word</th>\n",
       "      <th></th>\n",
       "      <th></th>\n",
       "    </tr>\n",
       "  </thead>\n",
       "  <tbody>\n",
       "    <tr>\n",
       "      <th>got</th>\n",
       "      <td>51</td>\n",
       "      <td>VBD</td>\n",
       "    </tr>\n",
       "    <tr>\n",
       "      <th>get</th>\n",
       "      <td>27</td>\n",
       "      <td>VB</td>\n",
       "    </tr>\n",
       "    <tr>\n",
       "      <th>have</th>\n",
       "      <td>26</td>\n",
       "      <td>VB</td>\n",
       "    </tr>\n",
       "    <tr>\n",
       "      <th>do</th>\n",
       "      <td>25</td>\n",
       "      <td>VB</td>\n",
       "    </tr>\n",
       "    <tr>\n",
       "      <th>be</th>\n",
       "      <td>18</td>\n",
       "      <td>VB</td>\n",
       "    </tr>\n",
       "    <tr>\n",
       "      <th>go</th>\n",
       "      <td>17</td>\n",
       "      <td>VB</td>\n",
       "    </tr>\n",
       "    <tr>\n",
       "      <th>ted</th>\n",
       "      <td>16</td>\n",
       "      <td>VBN</td>\n",
       "    </tr>\n",
       "    <tr>\n",
       "      <th>let</th>\n",
       "      <td>13</td>\n",
       "      <td>VB</td>\n",
       "    </tr>\n",
       "    <tr>\n",
       "      <th>know</th>\n",
       "      <td>12</td>\n",
       "      <td>VB</td>\n",
       "    </tr>\n",
       "    <tr>\n",
       "      <th>eating</th>\n",
       "      <td>12</td>\n",
       "      <td>VBG</td>\n",
       "    </tr>\n",
       "  </tbody>\n",
       "</table>\n",
       "</div>"
      ],
      "text/plain": [
       "        count word_tag\n",
       "word                  \n",
       "got        51      VBD\n",
       "get        27       VB\n",
       "have       26       VB\n",
       "do         25       VB\n",
       "be         18       VB\n",
       "go         17       VB\n",
       "ted        16      VBN\n",
       "let        13       VB\n",
       "know       12       VB\n",
       "eating     12      VBG"
      ]
     },
     "execution_count": 62,
     "metadata": {},
     "output_type": "execute_result"
    }
   ],
   "source": [
    "# Top Ten Verbs in Lyrics\n",
    "# Set word series to index to be usable for bar chart\n",
    "top_words_df_2_verbs = top_words_df_2_verbs.set_index('word')\n",
    "top_words_df_2_verbs.head(10)"
   ]
  },
  {
   "cell_type": "code",
   "execution_count": 63,
   "id": "3dc758e9",
   "metadata": {
    "scrolled": false
   },
   "outputs": [
    {
     "data": {
      "image/png": "[encoded data removed]",
      "text/plain": [
       "<Figure size 640x480 with 1 Axes>"
      ]
     },
     "metadata": {},
     "output_type": "display_data"
    }
   ],
   "source": [
    "# Top ten verbs in lyrics\n",
    "ax = top_words_df_2_verbs['count'].head(10).plot.bar(title='Top Ten Verbs in Lyrics', color='gold')\n",
    "ax.set_facecolor('gray')\n",
    "plt.xticks(rotation=45, ha='right')\n",
    "ax.set(xlabel=None)\n",
    "\n",
    "# Add labels to top of each bar\n",
    "for container in ax.containers:\n",
    "    ax.bar_label(container, color='w')"
   ]
  },
  {
   "cell_type": "markdown",
   "id": "8a68bcd1",
   "metadata": {},
   "source": [
    "<a id='poupon_rhymes'></a>\n",
    "## 7. Are there any words in the lyrics that rhyme with \"poupon\"? Which words and how many?"
   ]
  },
  {
   "cell_type": "markdown",
   "id": "18bee49e",
   "metadata": {},
   "source": [
    "### 7.1 To begin, we will extract data from rhymezone.com to list words that rhyme with \"poupon\". [[5]](#citations)"
   ]
  },
  {
   "cell_type": "code",
   "execution_count": 64,
   "id": "7b45e676",
   "metadata": {},
   "outputs": [],
   "source": [
    "# Rhyming word comparison\n",
    "    # Pull list of words that rhyme with \"poupon\" and see which ones occur in lyrics\n",
    "# Connect to URL of the webpage and scrape page's html\n",
    "rhyme_url = requests.get('https://www.rhymezone.com/r/rhyme.cgi?Word=poupon&typeofrhyme=perfect&org1=syl&org2=l&org3=y') \n",
    "\n",
    "rhyme_page_html = bs(rhyme_url.content) \n",
    "\n",
    "rhyme_list = rhyme_page_html.find_all(\"a\", {\"class\": \"r\"})"
   ]
  },
  {
   "cell_type": "code",
   "execution_count": 65,
   "id": "16c45767",
   "metadata": {},
   "outputs": [],
   "source": [
    "# Create series of strings for html lines and remove bottom rows unrelated to rhyme words\n",
    "rhyme_str_series = pd.Series(rhyme_list).astype(str)\n",
    "rhyme_str_series = rhyme_str_series[rhyme_str_series.str.contains('moreideas') == False]"
   ]
  },
  {
   "cell_type": "code",
   "execution_count": 66,
   "id": "e4b6ec91",
   "metadata": {},
   "outputs": [],
   "source": [
    "# Remove leading and trailing html data from word values\n",
    "clean_rhyme_word_list = []\n",
    "for clean_rhyme_word in rhyme_str_series:\n",
    "    # Get index position of \">\" to slice leading html\n",
    "    clean_rhyme_word_lead_index = clean_rhyme_word.index('>')\n",
    "    clean_rhyme_word = clean_rhyme_word[clean_rhyme_word_lead_index + 1:]\n",
    "\n",
    "    # Get index position of \"<\" to slice trailing html\n",
    "    clean_rhyme_word_trail_index = clean_rhyme_word.index('<')\n",
    "    clean_rhyme_word = clean_rhyme_word[:clean_rhyme_word_trail_index]\n",
    "    \n",
    "    clean_rhyme_word_list.append(clean_rhyme_word)"
   ]
  },
  {
   "cell_type": "code",
   "execution_count": 67,
   "id": "97a6bbb3",
   "metadata": {},
   "outputs": [],
   "source": [
    "# Create new series with cleaned (html-free) words\n",
    "clean_rhyme_str_series = pd.Series(data=clean_rhyme_word_list)"
   ]
  },
  {
   "cell_type": "code",
   "execution_count": 68,
   "id": "024722a9",
   "metadata": {},
   "outputs": [
    {
     "data": {
      "text/plain": [
       "0    poupon\n",
       "1      grey\n",
       "2       the\n",
       "3        on\n",
       "4      like\n",
       "5       you\n",
       "6        my\n",
       "7        it\n",
       "8       and\n",
       "9      that\n",
       "Name: word, dtype: object"
      ]
     },
     "execution_count": 68,
     "metadata": {},
     "output_type": "execute_result"
    }
   ],
   "source": [
    "# Make series of all words from prior dataframe for comparison to rhyme word list\n",
    "top_words_series = pd.Series(top_words_df_2['word'])\n",
    "top_words_series.head(10)"
   ]
  },
  {
   "cell_type": "code",
   "execution_count": 69,
   "id": "82f52d2b",
   "metadata": {
    "scrolled": true
   },
   "outputs": [],
   "source": [
    "# Compare word_list_str to list of contraction words\n",
    "    # if found, word is removed from word_list_str\n",
    "lyric_rhyme_word_list = []\n",
    "for rhyme_word in clean_rhyme_str_series:\n",
    "    for lyric_word in top_words_series:\n",
    "        if rhyme_word == lyric_word:\n",
    "            lyric_rhyme_word_list.append(rhyme_word)"
   ]
  },
  {
   "cell_type": "code",
   "execution_count": 70,
   "id": "39789986",
   "metadata": {},
   "outputs": [],
   "source": [
    "lyric_rhyme_word_series = pd.Series(data=lyric_rhyme_word_list)"
   ]
  },
  {
   "cell_type": "code",
   "execution_count": 71,
   "id": "f751ae72",
   "metadata": {},
   "outputs": [],
   "source": [
    "lyric_rhyme_word_df = top_words_df_2[top_words_df_2['word'].isin(lyric_rhyme_word_series)]\n",
    "lyric_rhyme_word_df = lyric_rhyme_word_df.drop(columns=['word_tag'])\n",
    "lyric_rhyme_word_df = lyric_rhyme_word_df.set_index('word')"
   ]
  },
  {
   "cell_type": "markdown",
   "id": "f6b65c95",
   "metadata": {},
   "source": [
    "### 7.2 Now we can see the creativity in the lyrics: Not only are there a high amount of words that rhyme with \"poupon\", but some of them even have a related meaning (such as \"dijon\", which is the style of mustard)."
   ]
  },
  {
   "cell_type": "code",
   "execution_count": 72,
   "id": "631dc5de",
   "metadata": {},
   "outputs": [
    {
     "data": {
      "image/png": "[encoded data removed]",
      "text/plain": [
       "<Figure size 640x480 with 1 Axes>"
      ]
     },
     "metadata": {},
     "output_type": "display_data"
    }
   ],
   "source": [
    "# Top ten words that rhyme with poupon in lyrics\n",
    "ax = lyric_rhyme_word_df['count'].head(10).plot.bar(title='Top Ten Poupon Rhymes in Lyrics', color='gold')\n",
    "ax.set_facecolor('gray')\n",
    "plt.xticks(rotation=45, ha='right')\n",
    "ax.set(xlabel=None)\n",
    "\n",
    "# Add labels to top of each bar\n",
    "for container in ax.containers:\n",
    "    ax.bar_label(container, color='w')"
   ]
  },
  {
   "cell_type": "markdown",
   "id": "6e0230d5",
   "metadata": {},
   "source": [
    "<a id='citations'></a>\n",
    "# Citations:\n",
    "1. Caswell, Estelle and Sarah Frostenson. “How Grey Poupon Became Hip-Hop’s Favorite Condiment.” Vox, 12 Oct. 2016, www.vox.com/videos/2016/10/12/13250360/grey-poupon-in-hip-hop\n",
    "<br>\n",
    "<br>\n",
    "2. “Song Lyrics & Knowledge.” Genius, genius.com/search?q=poupon. Accessed 23 May 2024. \n",
    "<br>\n",
    "<br>\n",
    "3. “List of English Contractions.” Wikipedia, Wikimedia Foundation, 18 May 2024, en.wikipedia.org/wiki/Wikipedia:List_of_English_contractions.\n",
    "<br>\n",
    "<br>\n",
    "4. “Eat Definition & Meaning.” Merriam-Webster, Merriam-Webster, www.merriam-webster.com/dictionary/eat#dictionary-entry-2. Accessed 23 May 2024.\n",
    "<br>\n",
    "<br>\n",
    "5. “Poupon Rhymes.” RhymeZone, www.rhymezone.com/r/rhyme.cgi?Word=poupon&typeofrhyme=perfect&org1=syl&org2=l&org3=y. Accessed 23 May 2024. \n"
   ]
  },
  {
   "cell_type": "markdown",
   "id": "bd15df22",
   "metadata": {},
   "source": [
    "# Future Improvements:"
   ]
  },
  {
   "cell_type": "markdown",
   "id": "1cccf7f5",
   "metadata": {},
   "source": [
    "### While we were able to find many words that rhyme with \"poupon\", it did not capture them all due to not being in the source to compare the lyrics to. One example is \"crouton\" a missed opportunity as it is used multiple times and is related to food like Grey Poupon."
   ]
  },
  {
   "cell_type": "code",
   "execution_count": 73,
   "id": "e908a390",
   "metadata": {},
   "outputs": [
    {
     "data": {
      "text/html": [
       "<div>\n",
       "<style scoped>\n",
       "    .dataframe tbody tr th:only-of-type {\n",
       "        vertical-align: middle;\n",
       "    }\n",
       "\n",
       "    .dataframe tbody tr th {\n",
       "        vertical-align: top;\n",
       "    }\n",
       "\n",
       "    .dataframe thead th {\n",
       "        text-align: right;\n",
       "    }\n",
       "</style>\n",
       "<table border=\"1\" class=\"dataframe\">\n",
       "  <thead>\n",
       "    <tr style=\"text-align: right;\">\n",
       "      <th></th>\n",
       "      <th>word</th>\n",
       "      <th>count</th>\n",
       "      <th>word_tag</th>\n",
       "    </tr>\n",
       "  </thead>\n",
       "  <tbody>\n",
       "    <tr>\n",
       "      <th>82</th>\n",
       "      <td>croutons</td>\n",
       "      <td>12</td>\n",
       "      <td>NaN</td>\n",
       "    </tr>\n",
       "    <tr>\n",
       "      <th>206</th>\n",
       "      <td>crouton</td>\n",
       "      <td>5</td>\n",
       "      <td>NN</td>\n",
       "    </tr>\n",
       "  </tbody>\n",
       "</table>\n",
       "</div>"
      ],
      "text/plain": [
       "         word  count word_tag\n",
       "82   croutons     12      NaN\n",
       "206   crouton      5       NN"
      ]
     },
     "execution_count": 73,
     "metadata": {},
     "output_type": "execute_result"
    }
   ],
   "source": [
    "# Filter for \"crouton\" \n",
    "top_words_df_2[top_words_df_2['word'].str.contains('crouton')]"
   ]
  },
  {
   "cell_type": "markdown",
   "id": "ea020b74",
   "metadata": {},
   "source": [
    "### Solution is to pull rhyming words from additional sources (i.e. other websites) and combine to make the rhyme analysis more thorough."
   ]
  },
  {
   "cell_type": "markdown",
   "id": "c5a216be",
   "metadata": {},
   "source": [
    "# Special thanks to Estelle Caswell and Sarah Frostenson from Vox.com for their insightful video and article that inspired this analysis!"
   ]
  },
  {
   "cell_type": "code",
   "execution_count": null,
   "id": "8b1d2bed",
   "metadata": {},
   "outputs": [],
   "source": []
  }
 ],
 "metadata": {
  "kernelspec": {
   "display_name": "Python 3 (ipykernel)",
   "language": "python",
   "name": "python3"
  },
  "language_info": {
   "codemirror_mode": {
    "name": "ipython",
    "version": 3
   },
   "file_extension": ".py",
   "mimetype": "text/x-python",
   "name": "python",
   "nbconvert_exporter": "python",
   "pygments_lexer": "ipython3",
   "version": "3.11.7"
  }
 },
 "nbformat": 4,
 "nbformat_minor": 5
}
