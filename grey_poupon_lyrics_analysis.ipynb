{
 "cells": [
  {
   "cell_type": "markdown",
   "id": "0efec818",
   "metadata": {},
   "source": [
    "# Grey Poupon: A Hip-Hop Lyrical Phenomena!"
   ]
  },
  {
   "cell_type": "markdown",
   "id": "423ffe46",
   "metadata": {},
   "source": [
    "### I recently saw a video on an interesting trend in the field of Hip-Hop music about Grey Poupon - a brand of dijon mustard - having an unusual amount of references in the genre as an allegory for \"the idea of status, luxury, and class\" [[1]](#citations).\n",
    "\n",
    "### While a funny fact, I feel we can analyze this further and consider more aspects regarding the usage of the brand in the Hip-Hop music landscape.\n",
    "\n",
    "#### The questions we will answer are the following:\n",
    "\n",
    "1. [How many songs mention the brand?](#brand)\n",
    "2. [Which artists have made references to Grey Poupon? How many times?](#top_artists)\n",
    "3. [Are there alternative spellings of Grey (i.e. Gray) used as well?](#grey_vs_gray)\n",
    "4. [What are the top ten words in the lyrics?](#top_words)\n",
    "5. [Are there permutations of the word \"Poupon\" in the lyrics and what are they?](#poupon_permutations)\n",
    "6. [What are the most common nouns and verbs used in song lyrics with Grey Poupon?](#nouns_and_verbs)\n",
    "7. [Are there any words in the lyrics the artists are rhyming with \"Poupon\"? Which words and how many?](#poupon_rhymes)"
   ]
  },
  {
   "cell_type": "markdown",
   "id": "a9d5697e",
   "metadata": {},
   "source": [
    "## Preface: First we will collect our song data from genius.com to clean and analyze later on (song titles, artist names and lyric snippets) [[2]](#citations):"
   ]
  },
  {
   "cell_type": "code",
   "execution_count": 1,
   "id": "6f843b3f-b28a-4b3f-a9b2-4f40a336881a",
   "metadata": {},
   "outputs": [],
   "source": [
    "import pyautogui, time, pandas as pd, matplotlib.pyplot as plt, csv, requests\n",
    "from selenium import webdriver\n",
    "from selenium.webdriver.common.by import By\n",
    "from bs4 import BeautifulSoup as bs\n",
    "from textblob import TextBlob"
   ]
  },
  {
   "cell_type": "code",
   "execution_count": 2,
   "id": "5116d87c-9cf5-4e02-837a-7f6c765de9cf",
   "metadata": {},
   "outputs": [],
   "source": [
    "# Activate failsafe (moving mouse cursor to upper-left of window will stop program if needed)\n",
    "pyautogui.FAILSAFE = True\n",
    "\n",
    "# Initialize WebDriver\n",
    "driver = webdriver.Chrome()\n",
    "\n",
    "# Open the URL of the webpage\n",
    "url = \"https://genius.com/search?q=poupon\"\n",
    "driver.get(url)\n",
    "\n",
    "# Trigger \"Show more lyrics\" link to bring up search results\n",
    "link = driver.find_element(By.LINK_TEXT, \"Show more lyric matches\")\n",
    "link.click()"
   ]
  },
  {
   "cell_type": "code",
   "execution_count": 3,
   "id": "bff8ffa3-76b5-4d4f-b2a8-771cd32dc5ed",
   "metadata": {},
   "outputs": [],
   "source": [
    "pyautogui.hotkey(\"f12\")\n",
    "time.sleep(5)\n",
    "\n",
    "page_html = bs(driver.page_source, \"html.parser\")\n"
   ]
  },
  {
   "cell_type": "code",
   "execution_count": 4,
   "id": "20b4dea4-50ea-4903-807a-fa7ec9226a6f",
   "metadata": {},
   "outputs": [],
   "source": [
    "# Extract currently loaded search results\n",
    "def collect_data(data_list, str_list):\n",
    "    for list_item in data_list:\n",
    "        str_list.append(str(list_item))\n",
    "\n",
    "# Trigger webpage to load more results\n",
    "def load_more_data():\n",
    "    pyautogui.hotkey('ctrl', 'f')\n",
    "    pyautogui.write('load_next()')\n",
    "    time.sleep(2)\n",
    "    page_html = bs(driver.page_source, \"html.parser\")\n",
    "    html_data_list = list(page_html)\n",
    "    html_data_list_str = str(html_data_list)\n",
    "    return html_data_list_str, page_html\n",
    "    "
   ]
  },
  {
   "cell_type": "code",
   "execution_count": 5,
   "id": "32b59994",
   "metadata": {},
   "outputs": [],
   "source": [
    "# Run load_more_data manually one time to feed the initial iteration of the while loop\n",
    "html_data_list_str = load_more_data()\n",
    "prior_html_list_str = []"
   ]
  },
  {
   "cell_type": "code",
   "execution_count": null,
   "id": "8ff11f78",
   "metadata": {},
   "outputs": [],
   "source": [
    "# When end of results is reached, break while loop and continue program\n",
    "while len(prior_html_list_str) != len(html_data_list_str):\n",
    "    # Load more results and assign to lyric_poupon_check_list_str\n",
    "    prior_html_list_str = html_data_list_str\n",
    "    html_data_list_str, page_html = load_more_data()"
   ]
  },
  {
   "cell_type": "code",
   "execution_count": null,
   "id": "1ef7b212-c1fa-4e70-9c8e-7f1ee7bd2497",
   "metadata": {},
   "outputs": [],
   "source": [
    "# Collect song titles\n",
    "song_title = page_html.find_all(\"div\", {\"class\": \"mini_card-title\"})\n",
    "song_title_list = list(song_title)\n",
    "song_title_list_str = []\n",
    "\n",
    "# Convert list elements to strings for cleaning later on\n",
    "collect_data(song_title_list, song_title_list_str)\n"
   ]
  },
  {
   "cell_type": "code",
   "execution_count": null,
   "id": "63419324-8910-4829-8088-7634f401c156",
   "metadata": {},
   "outputs": [],
   "source": [
    "# Collect artist names\n",
    "artist_name = page_html.find_all(\"div\", {\"class\": \"mini_card-subtitle\"})\n",
    "artist_name_list = list(artist_name)\n",
    "artist_name_list_str = []\n",
    "\n",
    "# Convert list elements to strings for cleaning later on\n",
    "collect_data(artist_name_list, artist_name_list_str)\n",
    "\n"
   ]
  },
  {
   "cell_type": "code",
   "execution_count": null,
   "id": "e3c37d0e-0b5c-4cf7-8989-9b678b6e9124",
   "metadata": {},
   "outputs": [],
   "source": [
    "# Collect lyrics\n",
    "lyric_values = page_html.find_all(\"div\", {\"class\": \"mini_card-lyric_excerpt\"})\n",
    "time.sleep(3)\n",
    "lyric_values_list = list(lyric_values)\n",
    "lyric_values_list_str = []\n",
    "\n",
    "# Convert list elements to strings for for cleaning later on\n",
    "collect_data(lyric_values_list, lyric_values_list_str)"
   ]
  },
  {
   "cell_type": "code",
   "execution_count": null,
   "id": "81252a51",
   "metadata": {},
   "outputs": [],
   "source": [
    "# Close Genius.com web browser window\n",
    "time.sleep(2)\n",
    "driver.close()"
   ]
  },
  {
   "cell_type": "code",
   "execution_count": null,
   "id": "0b35dc96-b7fe-42fc-8772-704dc5c58651",
   "metadata": {},
   "outputs": [],
   "source": [
    "# Remove first few rows at top of lists due to unrelated search results\n",
    "song_title_list_clean = song_title_list_str[17:]\n",
    "artist_name_list_clean = artist_name_list_str[11:]\n",
    "lyric_values_list_clean = lyric_values_list_str[6:]\n"
   ]
  },
  {
   "cell_type": "code",
   "execution_count": null,
   "id": "d108f167-5bf6-4ed3-a569-ddb5386ff3bc",
   "metadata": {},
   "outputs": [],
   "source": [
    "# Remove leading and trailing html data from song/artist/lyric values\n",
    "def remove_html_data(data_list, leading_length, clean_list_2):\n",
    "    for data_string in data_list:\n",
    "        clean_data = data_string[leading_length:]\n",
    "        \n",
    "        # Remove \"\\n\" with space for .index() to find correct position for trailing_length\n",
    "        clean_data = clean_data.replace(\"\\n\", \" \")\n",
    "        clean_data = clean_data.replace(\"<span>\", \"\")\n",
    "        clean_data = clean_data.replace(\"</span>\", \"\")\n",
    "\n",
    "        trailing_length = clean_data.index(\"<\")\n",
    "        clean_data = clean_data[:trailing_length]\n",
    "\n",
    "        clean_list_2.append(clean_data.lower())\n",
    "        "
   ]
  },
  {
   "cell_type": "code",
   "execution_count": null,
   "id": "1836fc14-7237-4ffd-9452-cba41831231e",
   "metadata": {},
   "outputs": [],
   "source": [
    "song_title_list_clean_2 = []\n",
    "remove_html_data(song_title_list_clean, 29, song_title_list_clean_2)\n"
   ]
  },
  {
   "cell_type": "code",
   "execution_count": null,
   "id": "3d29e003-f111-499f-a283-507e0bd23205",
   "metadata": {},
   "outputs": [],
   "source": [
    "artist_name_list_clean_2 = []\n",
    "remove_html_data(artist_name_list_clean, 35, artist_name_list_clean_2)\n"
   ]
  },
  {
   "cell_type": "code",
   "execution_count": null,
   "id": "715b145a-ef9f-43e5-aa47-2bd7e085a1fd",
   "metadata": {},
   "outputs": [],
   "source": [
    "lyric_values_list_clean_2 = []\n",
    "remove_html_data(lyric_values_list_clean, 112, lyric_values_list_clean_2)\n"
   ]
  },
  {
   "cell_type": "code",
   "execution_count": null,
   "id": "2310a0d2-ae34-40f5-b47d-a9c594d96f3d",
   "metadata": {},
   "outputs": [],
   "source": [
    "# Combine all three columns into one dataframe\n",
    "lyric_df = pd.DataFrame(list(zip(song_title_list_clean_2, artist_name_list_clean_2, lyric_values_list_clean_2)),\n",
    "                       columns=[\"song_title\", \"artist_name\", \"lyric_values\"])"
   ]
  },
  {
   "cell_type": "markdown",
   "id": "756f06e2",
   "metadata": {},
   "source": [
    "### Now that we have extracted our data and imported it to a pandas dataframe, we can begin cleaning it for further use later on:"
   ]
  },
  {
   "cell_type": "code",
   "execution_count": null,
   "id": "9b7eff8f",
   "metadata": {},
   "outputs": [],
   "source": [
    "# Remove expletives and other offensive language from lyric_values listed in a csv file\n",
    "    # Note: The CSV file is not shared in this project - you may create your own in the following format:\n",
    "        # Row 1: Header/Disclaimer row\n",
    "        # Row 2: Word to censor\n",
    "        # etc.\n",
    "\n",
    "# Load words to list\n",
    "expletive_list = []\n",
    "with open('C:\\\\Users\\\\mnbia\\\\Documents\\\\grey_poupon_music_lyrics_analysis\\\\word_censor_list.csv') as csvfile:\n",
    "    file_reader = csv.reader(csvfile)\n",
    "    for row in file_reader:\n",
    "        expletive_list.append(row)"
   ]
  },
  {
   "cell_type": "code",
   "execution_count": null,
   "id": "eff2434e",
   "metadata": {},
   "outputs": [],
   "source": [
    "# Flatten expletive_list from list of lists format\n",
    "expletive_list_flat = []\n",
    "for expl_word_1 in expletive_list:\n",
    "    for sub_expl_word_1 in expl_word_1:\n",
    "        expletive_list_flat.append(sub_expl_word_1)\n",
    "\n",
    "# Remove header/disclaimer from first list element\n",
    "expletive_list_flat = expletive_list_flat[1:]"
   ]
  },
  {
   "cell_type": "code",
   "execution_count": null,
   "id": "487f422c",
   "metadata": {
    "scrolled": false
   },
   "outputs": [],
   "source": [
    "# Iterate through lyric_values column and remove any words found from list\n",
    "for expl_word_2 in expletive_list_flat:\n",
    "    lyric_df['lyric_values'] = lyric_df['lyric_values'].str.replace(expl_word_2, '')"
   ]
  },
  {
   "cell_type": "markdown",
   "id": "7496f06b",
   "metadata": {},
   "source": [
    "###  Let's check in with how the dataframe currently looks:"
   ]
  },
  {
   "cell_type": "code",
   "execution_count": null,
   "id": "cadb984a-a2d4-46bb-8a86-624c9ce40bc7",
   "metadata": {},
   "outputs": [],
   "source": [
    "# Check first and last 5 entries to see how the results look\n",
    "pd.set_option('max_colwidth', 400)\n",
    "lyric_df"
   ]
  },
  {
   "cell_type": "markdown",
   "id": "e481de05",
   "metadata": {},
   "source": [
    "### Since the last five search results appear to be irrelevant, find how many don't contain \"poupon\":"
   ]
  },
  {
   "cell_type": "code",
   "execution_count": null,
   "id": "99f854d9",
   "metadata": {},
   "outputs": [],
   "source": [
    "# Search lyric values do not contain \"Poupon\" in them\n",
    "lyric_df.lyric_values.str.contains('Poupon', regex=False, case=False).value_counts()"
   ]
  },
  {
   "cell_type": "code",
   "execution_count": null,
   "id": "be947ff2",
   "metadata": {},
   "outputs": [],
   "source": [
    "# Remove songs that do not have \"Poupon\" in their lyric values\n",
    "    # Create dataframe that only shows entries whose lyrics contain \"Poupon\"\n",
    "poupon_lyric_df = lyric_df[lyric_df['lyric_values'].str.contains('Poupon', regex=False, case=False) == True]\n",
    "poupon_lyric_df"
   ]
  },
  {
   "cell_type": "markdown",
   "id": "8c572a53",
   "metadata": {},
   "source": [
    "### It looks like French songs are inflating results due to poupon meaning \"doll/baby\" as opposed to referencing the mustard brand:\n"
   ]
  },
  {
   "cell_type": "code",
   "execution_count": null,
   "id": "3f4ad77b",
   "metadata": {},
   "outputs": [],
   "source": [
    "# Solution is to remove songs identified as being in French\n",
    "# Method to ID French songs is with .contains() and regex formula to find all values in text column that contain a character other than Basic Latin ASCII encoding\n",
    "# This will eliminate most songs mentioning \"poupon\" not related to the mustard brand\n",
    "\n",
    "# Regex logic:\n",
    "    # The regex formula allows the program to find accented letters not found in the english alphabet by searching by unicode (i.e. Basic Latin 0000 - 007F)\n",
    "    # [^...] = any character other than what's in bracket\n",
    "    # \"-\" (dash) = range of numerical values between left and right values\n",
    "    # \\x = regex code for period (\".\") which in turn means \"any character\" to dynamically search range of unicode digits\n",
    "    # Resulting translation of regex is \"any character that is NOT basic latin\"\n",
    "    # Translation of full pandas statement with regex formula is \"filter out any entries that contain characters outside of Basic Latin (i.e. avoid ñ, ó, etc.)\"\n",
    "\n",
    "poupon_lyric_df = poupon_lyric_df[~poupon_lyric_df['lyric_values'].str.contains(r'[^\\x00-\\x7F]')]"
   ]
  },
  {
   "cell_type": "markdown",
   "id": "6ae9ddce",
   "metadata": {},
   "source": [
    "### Now that the dataframe has been filtered down to relevant data, we can now begin our analysis in-depth"
   ]
  },
  {
   "cell_type": "code",
   "execution_count": null,
   "id": "ef117bbb",
   "metadata": {},
   "outputs": [],
   "source": [
    "poupon_lyric_df"
   ]
  },
  {
   "cell_type": "markdown",
   "id": "998bd0d6",
   "metadata": {},
   "source": [
    "<a id='brand'></a>\n",
    "## 1. How many songs mention the brand?"
   ]
  },
  {
   "cell_type": "markdown",
   "id": "66b83fb1",
   "metadata": {},
   "source": [
    "### 1.1 Checking the length of the dataframe, we can see that there are 401 total songs mentioning the word \"poupon\":"
   ]
  },
  {
   "cell_type": "code",
   "execution_count": null,
   "id": "f146e47f",
   "metadata": {},
   "outputs": [],
   "source": [
    "len(poupon_lyric_df)"
   ]
  },
  {
   "cell_type": "markdown",
   "id": "31cb4942",
   "metadata": {},
   "source": [
    "<a id='top_artists'></a>\n",
    "## 2. Which artists have made references to Grey Poupon? How many times?"
   ]
  },
  {
   "cell_type": "code",
   "execution_count": null,
   "id": "d2417614",
   "metadata": {},
   "outputs": [],
   "source": [
    "# Check top ten artists mentioning \"Poupon\" in lyrics\n",
    "poupon_lyric_df['artist_name'].value_counts().head(10)"
   ]
  },
  {
   "cell_type": "code",
   "execution_count": null,
   "id": "b35f65e8",
   "metadata": {},
   "outputs": [],
   "source": [
    "# Remove Genius translation artists\n",
    "poupon_lyric_df = poupon_lyric_df[poupon_lyric_df['artist_name'].str.contains('Genius', regex=False) == False]\n"
   ]
  },
  {
   "cell_type": "code",
   "execution_count": null,
   "id": "f1b5bc17",
   "metadata": {
    "scrolled": false
   },
   "outputs": [],
   "source": [
    "# Top ten artists with songs mentioning \"poupon\" in lyrics\n",
    "ax = poupon_lyric_df['artist_name'].value_counts().head(10).plot.bar(title='Top Ten Artists with \"Poupon\" in Lyrics', color='gold')\n",
    "ax.set_facecolor('gray')\n",
    "plt.xticks(rotation=45, ha='right')\n",
    "ax.set(xlabel=None)\n",
    "\n",
    "# Add labels to top of each bar\n",
    "for container in ax.containers:\n",
    "    ax.bar_label(container, color='w')\n",
    "\n"
   ]
  },
  {
   "cell_type": "markdown",
   "id": "a26bb568",
   "metadata": {},
   "source": [
    "<a id='grey_vs_gray'></a>\n",
    "## 3. Are there alternative spellings of Grey (i.e. Gray) used as well?"
   ]
  },
  {
   "cell_type": "markdown",
   "id": "61c56d19",
   "metadata": {},
   "source": [
    "### 3.1 First we will make all characters lowercase and remove special characters (i.e. apostrophes, commas, etc.):"
   ]
  },
  {
   "cell_type": "code",
   "execution_count": null,
   "id": "f9aa8e12",
   "metadata": {},
   "outputs": [],
   "source": [
    "# Grey vs Gray vs neither comparison\n",
    "    # Share of songs that spell grey, gray or neither in lyrics\n",
    "    \n",
    "# Make all characters lowercase in lyric_values to avoid double entries due to case sensitivity\n",
    "lower_poupon_lyrics = poupon_lyric_df['lyric_values'].str.lower()"
   ]
  },
  {
   "cell_type": "code",
   "execution_count": null,
   "id": "81cab576",
   "metadata": {},
   "outputs": [],
   "source": [
    "# Remove all non-alphabet characters from lyric_values\n",
    "for lyric_line in lower_poupon_lyrics:\n",
    "    for character in lyric_line:\n",
    "        if character.isalpha() == False:\n",
    "            lower_poupon_lyrics = lower_poupon_lyrics.str.replace(character, ' ', regex=False)"
   ]
  },
  {
   "cell_type": "code",
   "execution_count": null,
   "id": "1a6137b3",
   "metadata": {},
   "outputs": [],
   "source": [
    "# With an \"e\"\n",
    "with_e_series = lower_poupon_lyrics[lower_poupon_lyrics.str.contains('grey', regex=False, case=False)] == True\n",
    "\n",
    "# With an \"a\"\n",
    "with_a_series = lower_poupon_lyrics[lower_poupon_lyrics.str.contains('gray', regex=False, case=False)] == True\n",
    "\n",
    "# Neither word mentioned in lyrics\n",
    "neither_series = (lower_poupon_lyrics.str.contains('grey', regex=False, case=False) == False) & (lower_poupon_lyrics.str.contains('gray', regex=False, case=False) == False)\n",
    "neither_series = (neither_series[neither_series] == True)"
   ]
  },
  {
   "cell_type": "code",
   "execution_count": null,
   "id": "267d130d",
   "metadata": {},
   "outputs": [],
   "source": [
    "e_vs_a_vs_none_df = pd.DataFrame(index=['grey', 'gray', 'neither'], data=[len(with_e_series), len(with_a_series), len(neither_series)], columns=['count'])\n",
    "e_vs_a_vs_none_df\n"
   ]
  },
  {
   "cell_type": "markdown",
   "id": "de7a68d5",
   "metadata": {},
   "source": [
    "### 3.2 With our count of grey, gray and neither categories, we now have a pie chart showing the breakdown. It's interesting that there are spellings with an \"a\" when the brand is with an \"e\"!"
   ]
  },
  {
   "cell_type": "code",
   "execution_count": null,
   "id": "7e91a36e",
   "metadata": {
    "scrolled": false
   },
   "outputs": [],
   "source": [
    "# Pie chart for grey vs gray vs neither\n",
    "e_vs_a_vs_none_pie = e_vs_a_vs_none_df.plot.pie(y='count', colors=['gray', 'lightgray', 'gold'], ylabel='', autopct='%.1f%%')\n",
    "e_vs_a_vs_none_pie.set_title('Grey vs Gray Usage in Lyrics');"
   ]
  },
  {
   "cell_type": "markdown",
   "id": "34a9658e",
   "metadata": {},
   "source": [
    "<a id='top_words'></a>\n",
    "## 4. What are the top ten words in the lyrics?"
   ]
  },
  {
   "cell_type": "markdown",
   "id": "6e3a283d",
   "metadata": {},
   "source": [
    "### 4.1 Now we will create split the lyric values into individual words, stack words into one column then count occurrences:"
   ]
  },
  {
   "cell_type": "code",
   "execution_count": null,
   "id": "8454678d",
   "metadata": {},
   "outputs": [],
   "source": [
    "word_count_df_2 = lower_poupon_lyrics.str.split(expand=True)\n",
    "\n",
    "word_count_df_3 = word_count_df_2.stack()\n"
   ]
  },
  {
   "cell_type": "code",
   "execution_count": null,
   "id": "54e9c030",
   "metadata": {
    "scrolled": true
   },
   "outputs": [],
   "source": [
    "top_words_series = word_count_df_3.value_counts()\n",
    "top_words_series.head(10)"
   ]
  },
  {
   "cell_type": "code",
   "execution_count": null,
   "id": "351da113",
   "metadata": {
    "scrolled": true
   },
   "outputs": [],
   "source": [
    "# Remove single character words from series as they do not have much value in meaning\n",
    "for word in top_words_series.index:\n",
    "    if len(word) < 2:\n",
    "        top_words_series = top_words_series.drop(labels=word)\n"
   ]
  },
  {
   "cell_type": "code",
   "execution_count": null,
   "id": "5fe1da29",
   "metadata": {},
   "outputs": [],
   "source": [
    "top_words_series.head(10)"
   ]
  },
  {
   "cell_type": "markdown",
   "id": "cfc263d3",
   "metadata": {},
   "source": [
    "### 4.2 Here is the first bar graph using the word data. However, the results are burying verbs, nouns and adjectives, so we will use the textblob library later on to filter only for those."
   ]
  },
  {
   "cell_type": "code",
   "execution_count": null,
   "id": "92f3b831",
   "metadata": {
    "scrolled": false
   },
   "outputs": [],
   "source": [
    "# Top ten words in lyrics\n",
    "    # Results are burying verbs, nouns and adjectives, so we will use the textblob library later on to filter only for those\n",
    "ax = top_words_series.head(10).plot.bar(title='Top Ten Words in Lyrics', color='gold')\n",
    "ax.set_facecolor('gray')\n",
    "plt.xticks(rotation=45, ha='right')\n",
    "ax.set(xlabel=None)\n",
    "\n",
    "# Add labels to top of each bar\n",
    "for container in ax.containers:\n",
    "    ax.bar_label(container, color='w')\n"
   ]
  },
  {
   "cell_type": "markdown",
   "id": "ffca4dac",
   "metadata": {},
   "source": [
    "<a id='poupon_permutations'></a>\n",
    "## 5. Are there permutations of the word \"Poupon\" in the lyrics and what are they?"
   ]
  },
  {
   "cell_type": "markdown",
   "id": "96022031",
   "metadata": {},
   "source": [
    "### 5.1 Often in the Hip Hop genre, artists take liberties in the grammar, pronounciation and spellings of words. Let's take a look at all words containing \"poupon\":"
   ]
  },
  {
   "cell_type": "code",
   "execution_count": null,
   "id": "2e7387fc",
   "metadata": {},
   "outputs": [],
   "source": [
    "# Create dataframe from series\n",
    "top_words_df = top_words_series.to_frame()\n",
    "top_words_df = top_words_df.reset_index()"
   ]
  },
  {
   "cell_type": "code",
   "execution_count": null,
   "id": "5f3ae432",
   "metadata": {
    "scrolled": false
   },
   "outputs": [],
   "source": [
    "top_words_df = top_words_df.rename(columns={'index':'word'})\n",
    "top_words_df"
   ]
  },
  {
   "cell_type": "markdown",
   "id": "8534b1e3",
   "metadata": {},
   "source": [
    "### 5.2 Just as I hoped, there are quite a few different takes on the word! Something interesting to note is how it was changed to a verb with the spelling of \"pouponing\"."
   ]
  },
  {
   "cell_type": "code",
   "execution_count": null,
   "id": "7ca809a8",
   "metadata": {},
   "outputs": [],
   "source": [
    "# See all permutations of \"poupon\" (i.e. all words containing \"poupon\")\n",
    "top_words_df[top_words_df['word'].str.contains('poupon')]"
   ]
  },
  {
   "cell_type": "markdown",
   "id": "8bdb2688",
   "metadata": {},
   "source": [
    "<a id='nouns_and_verbs'></a>\n",
    "## 6. What are the most common nouns and verbs used in song lyrics with Grey Poupon?"
   ]
  },
  {
   "cell_type": "code",
   "execution_count": null,
   "id": "7b3ee298",
   "metadata": {},
   "outputs": [],
   "source": [
    "# Make a list from words series and combine to one string for use by textblob\n",
    "word_list = top_words_df['word'].to_list()\n",
    "word_list_str = ' '.join(word_list)\n",
    "\n",
    "# Remove \"\\'\" characters from string contents\n",
    "word_list_str = word_list_str.replace(\"\\'\", \"\")\n"
   ]
  },
  {
   "cell_type": "markdown",
   "id": "c8c9c148",
   "metadata": {},
   "source": [
    "### 6.1 Due to textblob's function of splitting contraction words into two (don't --> don, 't), we will remove all contraction words from dataset with a list of words from wikipedia [[3]](#citations)"
   ]
  },
  {
   "cell_type": "code",
   "execution_count": null,
   "id": "555c9b11",
   "metadata": {},
   "outputs": [],
   "source": [
    "# Due to textblob's function of splitting contraction words into two (don't --> don, 't),\n",
    "    # we will remove all contraction words from dataset with a list of words from wikipedia\n",
    "# Open the URL of the webpage and scrape page's html\n",
    "url = requests.get('https://en.wikipedia.org/wiki/Wikipedia:List_of_English_contractions') \n",
    "\n",
    "page_html = bs(url.content) \n",
    "\n",
    "# Find table of contraction words to scrape in html\n",
    "table_data = page_html.find_all(\"tr\")\n",
    "table_data_list = list(table_data)\n",
    "table_data_list_str = []"
   ]
  },
  {
   "cell_type": "code",
   "execution_count": null,
   "id": "bef5908a",
   "metadata": {},
   "outputs": [],
   "source": [
    "# Convert beautifulsoup object to list of strings\n",
    "collect_data(table_data_list, table_data_list_str)\n",
    "\n",
    "# Remove first few rows at top of lists due to unrelated search results\n",
    "table_data_list_str = table_data_list_str[2:]"
   ]
  },
  {
   "cell_type": "code",
   "execution_count": null,
   "id": "3b26424a",
   "metadata": {
    "scrolled": true
   },
   "outputs": [],
   "source": [
    "clean_table_data_list = []\n",
    "\n",
    "# Remove leading and trailing html data from constraint word values\n",
    "remove_html_data(table_data_list_str, 9, clean_table_data_list)"
   ]
  },
  {
   "cell_type": "code",
   "execution_count": null,
   "id": "56de3a9a",
   "metadata": {},
   "outputs": [],
   "source": [
    "# Remove \"(informal)\", \"(poetic)\" and \"(formal)\" from words\n",
    "clean_table_data_list_2 = []\n",
    "\n",
    "for word in clean_table_data_list:\n",
    "    if ' (informal)' in word:\n",
    "        clean_word = word.replace(' (informal)', '')\n",
    "        clean_table_data_list_2.append(clean_word)\n",
    "        \n",
    "    elif ' (poetic)' in word:\n",
    "        clean_word = word.replace(' (poetic)', '')\n",
    "        clean_table_data_list_2.append(clean_word)\n",
    "        \n",
    "    elif ' (formal)' in word:\n",
    "        clean_word = word.replace(' (formal)', '')\n",
    "        clean_table_data_list_2.append(clean_word)\n",
    "    \n",
    "    elif word == '':\n",
    "        continue\n",
    "    \n",
    "    else:\n",
    "        clean_table_data_list_2.append(word)\n",
    "\n",
    "# Remove \"/\", duplicate \"n\" value and punctuation characters from word entry\n",
    "clean_table_data_list_3 = []\n",
    "for word_2 in clean_table_data_list_2:\n",
    "    if r\"/\" in word_2:\n",
    "        clean_word_2 = word[:3]\n",
    "        clean_word_2 = clean_word_2.replace(\"’\", \"\")\n",
    "        clean_table_data_list_3.append(clean_word_2)\n",
    "    \n",
    "    elif \"’\" in word_2:\n",
    "        clean_word_2 = word_2.replace(\"’\", \"\")\n",
    "        clean_table_data_list_3.append(clean_word_2)\n",
    "        \n",
    "    elif r\"'\" in word_2:\n",
    "        clean_word_2 = word_2.replace(r\"'\", \"\")\n",
    "        clean_table_data_list_3.append(clean_word_2)\n",
    "        \n",
    "    else:\n",
    "        clean_table_data_list_3.append(word_2)\n",
    "\n"
   ]
  },
  {
   "cell_type": "code",
   "execution_count": null,
   "id": "4c9707b8",
   "metadata": {},
   "outputs": [],
   "source": [
    "# Compare word_list_str to list of contraction words\n",
    "    # if found, word is removed from word_list_str\n",
    "for contraction_word in clean_table_data_list_3:\n",
    "    if contraction_word in word_list_str:\n",
    "        word_list_str = word_list_str.replace(contraction_word, '')\n"
   ]
  },
  {
   "cell_type": "code",
   "execution_count": null,
   "id": "1b5ef03a",
   "metadata": {
    "scrolled": true
   },
   "outputs": [],
   "source": [
    "# Convert back to list for iterating through for textblob tags\n",
    "#     # Remove all non-alphabet characters\n",
    "word_list = word_list_str.split()\n"
   ]
  },
  {
   "cell_type": "code",
   "execution_count": null,
   "id": "9fbd1403",
   "metadata": {
    "scrolled": true
   },
   "outputs": [],
   "source": [
    "# for loop to input text to textblob function for word catagory tagging\n",
    "word_list_tags = []\n",
    "word_list_name = []\n",
    "for word in word_list:\n",
    "    word_list_tag_blob = TextBlob(word)\n",
    "    word_list_name_blob = TextBlob(word)\n",
    "    word_list_name.append(word_list_name_blob.tags[0][0])\n",
    "    word_list_tags.append(word_list_tag_blob.tags[0][1])\n"
   ]
  },
  {
   "cell_type": "code",
   "execution_count": null,
   "id": "e2cb5a62",
   "metadata": {},
   "outputs": [],
   "source": [
    "# Add tags as a new column to top_words_df\n",
    "word_tag_df = pd.DataFrame(list(zip(word_list_name, word_list_tags)), columns=['word', 'word_tag'])\n",
    "\n",
    "# Drop duplicates resulting from punctuation cleaning\n",
    "word_tag_df = word_tag_df.drop_duplicates()\n",
    "word_tag_df"
   ]
  },
  {
   "cell_type": "code",
   "execution_count": null,
   "id": "57af760d",
   "metadata": {},
   "outputs": [],
   "source": [
    "# Join dataframes against word values to add tag column to top_words_df\n",
    "top_words_df_2 = pd.merge(top_words_df, word_tag_df, on='word', how='left')\n"
   ]
  },
  {
   "cell_type": "code",
   "execution_count": null,
   "id": "d9a712fe",
   "metadata": {
    "scrolled": false
   },
   "outputs": [],
   "source": [
    "# Filter to only show nouns (singular, plural, proper, plural proper)\n",
    "top_words_df_2_nouns = top_words_df_2[(top_words_df_2['word_tag'] == 'NN') | (top_words_df_2['word_tag'] == 'NNS') | (top_words_df_2['word_tag'] == 'NNP') | (top_words_df_2['word_tag'] == 'NNPS')] \n"
   ]
  },
  {
   "cell_type": "code",
   "execution_count": null,
   "id": "46befa01",
   "metadata": {},
   "outputs": [],
   "source": [
    "# Set word series to index to be usable for bar chart\n",
    "top_words_df_2_nouns = top_words_df_2_nouns.set_index('word')\n"
   ]
  },
  {
   "cell_type": "code",
   "execution_count": null,
   "id": "0dd956d3",
   "metadata": {},
   "outputs": [],
   "source": [
    "top_words_df_2_nouns.head(10)"
   ]
  },
  {
   "cell_type": "code",
   "execution_count": null,
   "id": "b3cb4fb1",
   "metadata": {},
   "outputs": [],
   "source": [
    "# Drop word_tag series from dataframe\n",
    "top_words_df_2_nouns = top_words_df_2_nouns.drop(columns=['word_tag'])\n"
   ]
  },
  {
   "cell_type": "code",
   "execution_count": null,
   "id": "25a429e7",
   "metadata": {},
   "outputs": [],
   "source": [
    "# Remove \"poupon\", \"grey\" and \"gray\" due to higher counts from other nouns by a wide marginS\n",
    "top_words_df_2_nouns = top_words_df_2_nouns.drop(['poupon', 'grey', 'gray'], axis='index')"
   ]
  },
  {
   "cell_type": "markdown",
   "id": "7d30845a",
   "metadata": {},
   "source": [
    "### 6.2 Now that we can analyze the dataset for nouns and verbs, we can see for nouns that some are related to food (bread and eat)! Note that while \"eat\" is usually a verb, it can in fact be a noun in some instances. [[4]](#citations)"
   ]
  },
  {
   "cell_type": "code",
   "execution_count": null,
   "id": "a7243ddc",
   "metadata": {},
   "outputs": [],
   "source": [
    "# Top ten nouns in lyrics\n",
    "ax = top_words_df_2_nouns['count'].head(10).plot.bar(title='Top Ten Nouns in Lyrics', color='gold')\n",
    "ax.set_facecolor('gray')\n",
    "plt.xticks(rotation=45, ha='right')\n",
    "ax.set(xlabel=None)\n",
    "\n",
    "# Add labels to top of each bar\n",
    "for container in ax.containers:\n",
    "    ax.bar_label(container, color='w')"
   ]
  },
  {
   "cell_type": "markdown",
   "id": "d204d500",
   "metadata": {},
   "source": [
    "### 6.3 Just like the nouns, there are two related to food (eating and have). This is definitely not a coincidence since we are looking at lyrics surrounding the brand name of a condiment!"
   ]
  },
  {
   "cell_type": "code",
   "execution_count": null,
   "id": "aae5f09c",
   "metadata": {},
   "outputs": [],
   "source": [
    "# Filter to only show verbs (singular, plural, proper, plural proper)\n",
    "top_words_df_2_verbs = top_words_df_2[(top_words_df_2['word_tag'] == 'VB') | (top_words_df_2['word_tag'] == 'VBD') | (top_words_df_2['word_tag'] == 'VBG') | (top_words_df_2['word_tag'] == 'VBN') | (top_words_df_2['word_tag'] == 'VBP') | (top_words_df_2['word_tag'] == 'VBZ')] \n"
   ]
  },
  {
   "cell_type": "code",
   "execution_count": null,
   "id": "8658106c",
   "metadata": {},
   "outputs": [],
   "source": [
    "# Top Ten Verbs in Lyrics\n",
    "# Set word series to index to be usable for bar chart\n",
    "top_words_df_2_verbs = top_words_df_2_verbs.set_index('word')\n",
    "top_words_df_2_verbs.head(10)"
   ]
  },
  {
   "cell_type": "code",
   "execution_count": null,
   "id": "3dc758e9",
   "metadata": {
    "scrolled": false
   },
   "outputs": [],
   "source": [
    "# Top ten verbs in lyrics\n",
    "ax = top_words_df_2_verbs['count'].head(10).plot.bar(title='Top Ten Verbs in Lyrics', color='gold')\n",
    "ax.set_facecolor('gray')\n",
    "plt.xticks(rotation=45, ha='right')\n",
    "ax.set(xlabel=None)\n",
    "\n",
    "# Add labels to top of each bar\n",
    "for container in ax.containers:\n",
    "    ax.bar_label(container, color='w')"
   ]
  },
  {
   "cell_type": "markdown",
   "id": "8a68bcd1",
   "metadata": {},
   "source": [
    "<a id='poupon_rhymes'></a>\n",
    "## 7. Are there any words in the lyrics that rhyme with \"poupon\"? Which words and how many?"
   ]
  },
  {
   "cell_type": "markdown",
   "id": "18bee49e",
   "metadata": {},
   "source": [
    "### 7.1 To begin, we will extract data from rhymezone.com to list words that rhyme with \"poupon\". [[5]](#citations)"
   ]
  },
  {
   "cell_type": "code",
   "execution_count": null,
   "id": "7b45e676",
   "metadata": {},
   "outputs": [],
   "source": [
    "# Rhyming word comparison\n",
    "    # Pull list of words that rhyme with \"poupon\" and see which ones occur in lyrics\n",
    "# Connect to URL of the webpage and scrape page's html\n",
    "rhyme_url = requests.get('https://www.rhymezone.com/r/rhyme.cgi?Word=poupon&typeofrhyme=perfect&org1=syl&org2=l&org3=y') \n",
    "\n",
    "rhyme_page_html = bs(rhyme_url.content) \n",
    "\n",
    "rhyme_list = rhyme_page_html.find_all(\"a\", {\"class\": \"r\"})"
   ]
  },
  {
   "cell_type": "code",
   "execution_count": null,
   "id": "16c45767",
   "metadata": {},
   "outputs": [],
   "source": [
    "# Create series of strings for html lines and remove bottom rows unrelated to rhyme words\n",
    "rhyme_str_series = pd.Series(rhyme_list).astype(str)\n",
    "rhyme_str_series = rhyme_str_series[rhyme_str_series.str.contains('moreideas') == False]"
   ]
  },
  {
   "cell_type": "code",
   "execution_count": null,
   "id": "e4b6ec91",
   "metadata": {},
   "outputs": [],
   "source": [
    "# Remove leading and trailing html data from word values\n",
    "clean_rhyme_word_list = []\n",
    "for clean_rhyme_word in rhyme_str_series:\n",
    "    # Get index position of \">\" to slice leading html\n",
    "    clean_rhyme_word_lead_index = clean_rhyme_word.index('>')\n",
    "    clean_rhyme_word = clean_rhyme_word[clean_rhyme_word_lead_index + 1:]\n",
    "\n",
    "    # Get index position of \"<\" to slice trailing html\n",
    "    clean_rhyme_word_trail_index = clean_rhyme_word.index('<')\n",
    "    clean_rhyme_word = clean_rhyme_word[:clean_rhyme_word_trail_index]\n",
    "    \n",
    "    clean_rhyme_word_list.append(clean_rhyme_word)"
   ]
  },
  {
   "cell_type": "code",
   "execution_count": null,
   "id": "97a6bbb3",
   "metadata": {},
   "outputs": [],
   "source": [
    "# Create new series with cleaned (html-free) words\n",
    "clean_rhyme_str_series = pd.Series(data=clean_rhyme_word_list)"
   ]
  },
  {
   "cell_type": "code",
   "execution_count": null,
   "id": "024722a9",
   "metadata": {},
   "outputs": [],
   "source": [
    "# Make series of all words from prior dataframe for comparison to rhyme word list\n",
    "top_words_series = pd.Series(top_words_df_2['word'])\n",
    "top_words_series.head(10)"
   ]
  },
  {
   "cell_type": "code",
   "execution_count": null,
   "id": "82f52d2b",
   "metadata": {
    "scrolled": true
   },
   "outputs": [],
   "source": [
    "# Compare word_list_str to list of contraction words\n",
    "    # if found, word is removed from word_list_str\n",
    "lyric_rhyme_word_list = []\n",
    "for rhyme_word in clean_rhyme_str_series:\n",
    "    for lyric_word in top_words_series:\n",
    "        if rhyme_word == lyric_word:\n",
    "            lyric_rhyme_word_list.append(rhyme_word)"
   ]
  },
  {
   "cell_type": "code",
   "execution_count": null,
   "id": "39789986",
   "metadata": {},
   "outputs": [],
   "source": [
    "lyric_rhyme_word_series = pd.Series(data=lyric_rhyme_word_list)"
   ]
  },
  {
   "cell_type": "code",
   "execution_count": null,
   "id": "f751ae72",
   "metadata": {},
   "outputs": [],
   "source": [
    "lyric_rhyme_word_df = top_words_df_2[top_words_df_2['word'].isin(lyric_rhyme_word_series)]\n",
    "lyric_rhyme_word_df = lyric_rhyme_word_df.drop(columns=['word_tag'])\n",
    "lyric_rhyme_word_df = lyric_rhyme_word_df.set_index('word')"
   ]
  },
  {
   "cell_type": "markdown",
   "id": "f6b65c95",
   "metadata": {},
   "source": [
    "### 7.2 Now we can see the creativity in the lyrics: Not only are there a high amount of words that rhyme with \"poupon\", but some of them even have a related meaning (such as \"dijon\", which is the style of mustard)."
   ]
  },
  {
   "cell_type": "code",
   "execution_count": null,
   "id": "631dc5de",
   "metadata": {},
   "outputs": [],
   "source": [
    "# Top ten words that rhyme with poupon in lyrics\n",
    "ax = lyric_rhyme_word_df['count'].head(10).plot.bar(title='Top Ten Poupon Rhymes in Lyrics', color='gold')\n",
    "ax.set_facecolor('gray')\n",
    "plt.xticks(rotation=45, ha='right')\n",
    "ax.set(xlabel=None)\n",
    "\n",
    "# Add labels to top of each bar\n",
    "for container in ax.containers:\n",
    "    ax.bar_label(container, color='w')"
   ]
  },
  {
   "cell_type": "markdown",
   "id": "6e0230d5",
   "metadata": {},
   "source": [
    "<a id='citations'></a>\n",
    "# Citations:\n",
    "1. Caswell, Estelle and Sarah Frostenson. “How Grey Poupon Became Hip-Hop’s Favorite Condiment.” Vox, 12 Oct. 2016, www.vox.com/videos/2016/10/12/13250360/grey-poupon-in-hip-hop\n",
    "<br>\n",
    "<br>\n",
    "2. “Song Lyrics & Knowledge.” Genius, genius.com/search?q=poupon. Accessed 23 May 2024. \n",
    "<br>\n",
    "<br>\n",
    "3. “List of English Contractions.” Wikipedia, Wikimedia Foundation, 18 May 2024, en.wikipedia.org/wiki/Wikipedia:List_of_English_contractions.\n",
    "<br>\n",
    "<br>\n",
    "4. “Eat Definition & Meaning.” Merriam-Webster, Merriam-Webster, www.merriam-webster.com/dictionary/eat#dictionary-entry-2. Accessed 23 May 2024.\n",
    "<br>\n",
    "<br>\n",
    "5. “Poupon Rhymes.” RhymeZone, www.rhymezone.com/r/rhyme.cgi?Word=poupon&typeofrhyme=perfect&org1=syl&org2=l&org3=y. Accessed 23 May 2024. \n"
   ]
  },
  {
   "cell_type": "markdown",
   "id": "bd15df22",
   "metadata": {},
   "source": [
    "# Future Improvements:"
   ]
  },
  {
   "cell_type": "markdown",
   "id": "1cccf7f5",
   "metadata": {},
   "source": [
    "### While we were able to find many words that rhyme with \"poupon\", it did not capture them all due to not being in the source to compare the lyrics to. One example is \"crouton\" a missed opportunity as it is used multiple times and is related to food like Grey Poupon."
   ]
  },
  {
   "cell_type": "code",
   "execution_count": null,
   "id": "e908a390",
   "metadata": {},
   "outputs": [],
   "source": [
    "# Filter for \"crouton\" \n",
    "top_words_df_2[top_words_df_2['word'].str.contains('crouton')]"
   ]
  },
  {
   "cell_type": "markdown",
   "id": "ea020b74",
   "metadata": {},
   "source": [
    "### Solution is to pull rhyming words from additional sources (i.e. other websites) and combine to make the rhyme analysis more thorough."
   ]
  },
  {
   "cell_type": "markdown",
   "id": "c5a216be",
   "metadata": {},
   "source": [
    "# Special thanks to Estelle Caswell and Sarah Frostenson from Vox.com for their insightful video and article that inspired this analysis!"
   ]
  },
  {
   "cell_type": "code",
   "execution_count": null,
   "id": "8b1d2bed",
   "metadata": {},
   "outputs": [],
   "source": []
  }
 ],
 "metadata": {
  "kernelspec": {
   "display_name": "Python 3 (ipykernel)",
   "language": "python",
   "name": "python3"
  },
  "language_info": {
   "codemirror_mode": {
    "name": "ipython",
    "version": 3
   },
   "file_extension": ".py",
   "mimetype": "text/x-python",
   "name": "python",
   "nbconvert_exporter": "python",
   "pygments_lexer": "ipython3",
   "version": "3.11.7"
  }
 },
 "nbformat": 4,
 "nbformat_minor": 5
}
